{
 "cells": [
  {
   "cell_type": "markdown",
   "id": "d6bc3668",
   "metadata": {
    "papermill": {
     "duration": 0.019479,
     "end_time": "2023-05-15T08:05:01.290445",
     "exception": false,
     "start_time": "2023-05-15T08:05:01.270966",
     "status": "completed"
    },
    "tags": []
   },
   "source": [
    "# Overview"
   ]
  },
  {
   "cell_type": "markdown",
   "id": "be367fdd",
   "metadata": {
    "papermill": {
     "duration": 0.016998,
     "end_time": "2023-05-15T08:05:01.325235",
     "exception": false,
     "start_time": "2023-05-15T08:05:01.308237",
     "status": "completed"
    },
    "tags": []
   },
   "source": [
    "This method uses k-NN regression with distances of CLIP embeddings.  \n",
    "***Note: This method does not use generated images, only prompts.***\n",
    "![](https://www.googleapis.com/download/storage/v1/b/kaggle-forum-message-attachments/o/inbox%2F8163878%2Fbf35d4beb7867bc163f28abb647128ae%2FSDIP_method.PNG?generation=1682513923845611&alt=media)"
   ]
  },
  {
   "cell_type": "markdown",
   "id": "7a9d5045",
   "metadata": {
    "papermill": {
     "duration": 0.01703,
     "end_time": "2023-05-15T08:05:01.359409",
     "exception": false,
     "start_time": "2023-05-15T08:05:01.342379",
     "status": "completed"
    },
    "tags": []
   },
   "source": [
    "# Library"
   ]
  },
  {
   "cell_type": "code",
   "execution_count": 1,
   "id": "f9ea189e",
   "metadata": {
    "execution": {
     "iopub.execute_input": "2023-05-15T08:05:01.398205Z",
     "iopub.status.busy": "2023-05-15T08:05:01.397230Z",
     "iopub.status.idle": "2023-05-15T08:05:24.997579Z",
     "shell.execute_reply": "2023-05-15T08:05:24.996257Z"
    },
    "papermill": {
     "duration": 23.624053,
     "end_time": "2023-05-15T08:05:25.000555",
     "exception": false,
     "start_time": "2023-05-15T08:05:01.376502",
     "status": "completed"
    },
    "tags": []
   },
   "outputs": [
    {
     "name": "stdout",
     "output_type": "stream",
     "text": [
      "\u001b[33mWARNING: Running pip as the 'root' user can result in broken permissions and conflicting behaviour with the system package manager. It is recommended to use a virtual environment instead: https://pip.pypa.io/warnings/venv\u001b[0m\u001b[33m\r\n",
      "\u001b[0m"
     ]
    }
   ],
   "source": [
    "wheels_path = \"/kaggle/input/clip-interrogator-wheels-x\"\n",
    "clip_interrogator_whl_path = f\"{wheels_path}/clip_interrogator-0.4.3-py3-none-any.whl\"\n",
    "!pip install --no-index --find-links $wheels_path $clip_interrogator_whl_path -q"
   ]
  },
  {
   "cell_type": "code",
   "execution_count": 2,
   "id": "6d329234",
   "metadata": {
    "execution": {
     "iopub.execute_input": "2023-05-15T08:05:25.038781Z",
     "iopub.status.busy": "2023-05-15T08:05:25.038404Z",
     "iopub.status.idle": "2023-05-15T08:05:30.080115Z",
     "shell.execute_reply": "2023-05-15T08:05:30.078950Z"
    },
    "papermill": {
     "duration": 5.063597,
     "end_time": "2023-05-15T08:05:30.082907",
     "exception": false,
     "start_time": "2023-05-15T08:05:25.019310",
     "status": "completed"
    },
    "tags": []
   },
   "outputs": [],
   "source": [
    "import os, glob, gc\n",
    "import random\n",
    "import numpy as np\n",
    "import pandas as pd\n",
    "import pickle\n",
    "from pathlib import Path\n",
    "from PIL import Image\n",
    "from tqdm.notebook import tqdm\n",
    "from sklearn.preprocessing import normalize\n",
    "import torch\n",
    "from torch import nn\n",
    "from torchvision import transforms\n",
    "import open_clip\n",
    "import warnings\n",
    "warnings.filterwarnings('ignore')\n",
    "from matplotlib import pyplot as plt"
   ]
  },
  {
   "cell_type": "markdown",
   "id": "4f40532a",
   "metadata": {
    "papermill": {
     "duration": 0.017925,
     "end_time": "2023-05-15T08:05:30.119041",
     "exception": false,
     "start_time": "2023-05-15T08:05:30.101116",
     "status": "completed"
    },
    "tags": []
   },
   "source": [
    "# Config"
   ]
  },
  {
   "cell_type": "code",
   "execution_count": 3,
   "id": "b627646b",
   "metadata": {
    "execution": {
     "iopub.execute_input": "2023-05-15T08:05:30.156143Z",
     "iopub.status.busy": "2023-05-15T08:05:30.155550Z",
     "iopub.status.idle": "2023-05-15T08:05:30.161499Z",
     "shell.execute_reply": "2023-05-15T08:05:30.160359Z"
    },
    "papermill": {
     "duration": 0.027747,
     "end_time": "2023-05-15T08:05:30.164311",
     "exception": false,
     "start_time": "2023-05-15T08:05:30.136564",
     "status": "completed"
    },
    "tags": []
   },
   "outputs": [],
   "source": [
    "class CFG:\n",
    "    clip_model_path = \"/kaggle/input/laion-vit-h-14-model/ViT-H-14_laion2b_s32b_b79k.pt\"\n",
    "    clip_preproc_pkl = \"/kaggle/input/laion-vit-h-14-model/preprocess.pkl\"\n",
    "    input_size = 224\n",
    "    batch_size = 64\n",
    "    seed = 42\n",
    "    knn_topk = 150\n",
    "    knn_interval = 1000\n",
    "    knn_dim = 6"
   ]
  },
  {
   "cell_type": "code",
   "execution_count": 4,
   "id": "f522d4be",
   "metadata": {
    "execution": {
     "iopub.execute_input": "2023-05-15T08:05:30.201297Z",
     "iopub.status.busy": "2023-05-15T08:05:30.200335Z",
     "iopub.status.idle": "2023-05-15T08:05:30.268003Z",
     "shell.execute_reply": "2023-05-15T08:05:30.266969Z"
    },
    "papermill": {
     "duration": 0.088755,
     "end_time": "2023-05-15T08:05:30.270616",
     "exception": false,
     "start_time": "2023-05-15T08:05:30.181861",
     "status": "completed"
    },
    "tags": []
   },
   "outputs": [],
   "source": [
    "def seed_everything(seed):\n",
    "    os.environ['PYTHONHASHSEED'] = str(seed)\n",
    "    random.seed(seed)\n",
    "    np.random.seed(seed)\n",
    "    torch.manual_seed(seed)\n",
    "    \n",
    "    if torch.cuda.is_available(): \n",
    "        torch.cuda.manual_seed(seed)\n",
    "        torch.backends.cudnn.deterministic = True\n",
    "\n",
    "seed_everything(CFG.seed)"
   ]
  },
  {
   "cell_type": "code",
   "execution_count": 5,
   "id": "4467df94",
   "metadata": {
    "execution": {
     "iopub.execute_input": "2023-05-15T08:05:30.308192Z",
     "iopub.status.busy": "2023-05-15T08:05:30.307244Z",
     "iopub.status.idle": "2023-05-15T08:05:30.312802Z",
     "shell.execute_reply": "2023-05-15T08:05:30.311735Z"
    },
    "papermill": {
     "duration": 0.026633,
     "end_time": "2023-05-15T08:05:30.315168",
     "exception": false,
     "start_time": "2023-05-15T08:05:30.288535",
     "status": "completed"
    },
    "tags": []
   },
   "outputs": [],
   "source": [
    "device = torch.device('cuda' if torch.cuda.is_available() else 'cpu')"
   ]
  },
  {
   "cell_type": "markdown",
   "id": "38a0373b",
   "metadata": {
    "papermill": {
     "duration": 0.017217,
     "end_time": "2023-05-15T08:05:30.349735",
     "exception": false,
     "start_time": "2023-05-15T08:05:30.332518",
     "status": "completed"
    },
    "tags": []
   },
   "source": [
    "#### <a id=\"top\"></a>\n",
    "# <div style=\"box-shadow: rgb(60, 121, 245) 0px 0px 0px 3px inset, rgb(255, 255, 255) 10px -10px 0px -3px, rgb(31, 193, 27) 10px -10px, rgb(255, 255, 255) 20px -20px 0px -3px, rgb(255, 217, 19) 20px -20px, rgb(255, 255, 255) 30px -30px 0px -3px, rgb(255, 156, 85) 30px -30px, rgb(255, 255, 255) 40px -40px 0px -3px, rgb(255, 85, 85) 40px -40px; padding:20px; margin-right: 40px; font-size:30px; font-family: consolas; text-align:center; display:fill; border-radius:15px; color:rgb(60, 121, 245);\"><b> ref_embeddings </b></div>\n"
   ]
  },
  {
   "cell_type": "code",
   "execution_count": 6,
   "id": "35c5aba0",
   "metadata": {
    "execution": {
     "iopub.execute_input": "2023-05-15T08:05:30.386925Z",
     "iopub.status.busy": "2023-05-15T08:05:30.385938Z",
     "iopub.status.idle": "2023-05-15T08:05:30.391137Z",
     "shell.execute_reply": "2023-05-15T08:05:30.390204Z"
    },
    "papermill": {
     "duration": 0.026239,
     "end_time": "2023-05-15T08:05:30.393481",
     "exception": false,
     "start_time": "2023-05-15T08:05:30.367242",
     "status": "completed"
    },
    "tags": []
   },
   "outputs": [],
   "source": [
    "FILES_OBJECTIVE_EMB = []\n",
    "FILES_CLIP_EMB = []"
   ]
  },
  {
   "cell_type": "code",
   "execution_count": 7,
   "id": "87c60729",
   "metadata": {
    "execution": {
     "iopub.execute_input": "2023-05-15T08:05:30.430458Z",
     "iopub.status.busy": "2023-05-15T08:05:30.429486Z",
     "iopub.status.idle": "2023-05-15T08:05:30.533637Z",
     "shell.execute_reply": "2023-05-15T08:05:30.531896Z"
    },
    "papermill": {
     "duration": 0.125204,
     "end_time": "2023-05-15T08:05:30.535978",
     "exception": false,
     "start_time": "2023-05-15T08:05:30.410774",
     "status": "completed"
    },
    "tags": []
   },
   "outputs": [
    {
     "name": "stdout",
     "output_type": "stream",
     "text": [
      "140 140\n"
     ]
    }
   ],
   "source": [
    "### DiffusionDB-14M (https://huggingface.co/datasets/poloclub/diffusiondb)\n",
    "# Objective embeddings\n",
    "FILES_OBJECTIVE_EMB += sorted(glob.glob(\"/kaggle/input/pub-embeddings-diffusiondb-14m-part1/all_minilm_l6_v2/*.npy\"))\n",
    "FILES_OBJECTIVE_EMB += sorted(glob.glob(\"/kaggle/input/pub-embeddings-diffusiondb-14m-part2/all_minilm_l6_v2/*.npy\"))\n",
    "FILES_OBJECTIVE_EMB += sorted(glob.glob(\"/kaggle/input/pub-embeddings-diffusiondb-14m-part3/all_minilm_l6_v2/*.npy\"))\n",
    "\n",
    "# CLIP text tembeddings\n",
    "FILES_CLIP_EMB += sorted(glob.glob(\"/kaggle/input/pub-embeddings-diffusiondb-14m-part1/vith14/*.npy\"))\n",
    "FILES_CLIP_EMB += sorted(glob.glob(\"/kaggle/input/pub-embeddings-diffusiondb-14m-part2/vith14/*.npy\"))\n",
    "FILES_CLIP_EMB += sorted(glob.glob(\"/kaggle/input/pub-embeddings-diffusiondb-14m-part3/vith14/*.npy\"))\n",
    "print(len(FILES_OBJECTIVE_EMB), len(FILES_CLIP_EMB))"
   ]
  },
  {
   "cell_type": "code",
   "execution_count": 8,
   "id": "787484bd",
   "metadata": {
    "execution": {
     "iopub.execute_input": "2023-05-15T08:05:30.574027Z",
     "iopub.status.busy": "2023-05-15T08:05:30.573005Z",
     "iopub.status.idle": "2023-05-15T08:05:30.621680Z",
     "shell.execute_reply": "2023-05-15T08:05:30.620692Z"
    },
    "papermill": {
     "duration": 0.070281,
     "end_time": "2023-05-15T08:05:30.623992",
     "exception": false,
     "start_time": "2023-05-15T08:05:30.553711",
     "status": "completed"
    },
    "tags": []
   },
   "outputs": [
    {
     "name": "stdout",
     "output_type": "stream",
     "text": [
      "146 146\n"
     ]
    }
   ],
   "source": [
    "# MSCOCO 2017(train data) (https://cocodataset.org/#download)\n",
    "# Objective embeddings\n",
    "FILES_OBJECTIVE_EMB += sorted(glob.glob(\"/kaggle/input/pub-embeddings-mscoco/all_minilm_l6_v2/*.npy\"))\n",
    "\n",
    "# CLIP text tembeddings\n",
    "FILES_CLIP_EMB += sorted(glob.glob(\"/kaggle/input/pub-embeddings-mscoco/vith14/*.npy\"))\n",
    "print(len(FILES_OBJECTIVE_EMB), len(FILES_CLIP_EMB))"
   ]
  },
  {
   "cell_type": "code",
   "execution_count": 9,
   "id": "61cb327e",
   "metadata": {
    "execution": {
     "iopub.execute_input": "2023-05-15T08:05:30.661229Z",
     "iopub.status.busy": "2023-05-15T08:05:30.660274Z",
     "iopub.status.idle": "2023-05-15T08:05:30.667022Z",
     "shell.execute_reply": "2023-05-15T08:05:30.665779Z"
    },
    "papermill": {
     "duration": 0.027682,
     "end_time": "2023-05-15T08:05:30.669278",
     "exception": false,
     "start_time": "2023-05-15T08:05:30.641596",
     "status": "completed"
    },
    "tags": []
   },
   "outputs": [
    {
     "name": "stdout",
     "output_type": "stream",
     "text": [
      "147 147\n"
     ]
    }
   ],
   "source": [
    "# dataset80k (https://www.kaggle.com/competitions/stable-diffusion-image-to-prompts/discussion/390674)\n",
    "# Objective embeddings\n",
    "FILES_OBJECTIVE_EMB.append(\"/kaggle/input/pub-embeddings-dataset80k/all_minilm_l6_v2/prompt_embeddings_allminilm_001.npy\")\n",
    "\n",
    "# CLIP text tembeddings\n",
    "FILES_CLIP_EMB.append(\"/kaggle/input/pub-embeddings-dataset80k/vith14/prompt_embedding_vith14_001.npy\")\n",
    "print(len(FILES_OBJECTIVE_EMB), len(FILES_CLIP_EMB))"
   ]
  },
  {
   "cell_type": "code",
   "execution_count": 10,
   "id": "f3a8b002",
   "metadata": {
    "execution": {
     "iopub.execute_input": "2023-05-15T08:05:30.707177Z",
     "iopub.status.busy": "2023-05-15T08:05:30.706549Z",
     "iopub.status.idle": "2023-05-15T08:05:30.713563Z",
     "shell.execute_reply": "2023-05-15T08:05:30.711983Z"
    },
    "papermill": {
     "duration": 0.0282,
     "end_time": "2023-05-15T08:05:30.715783",
     "exception": false,
     "start_time": "2023-05-15T08:05:30.687583",
     "status": "completed"
    },
    "tags": []
   },
   "outputs": [
    {
     "name": "stdout",
     "output_type": "stream",
     "text": [
      "148 148\n"
     ]
    }
   ],
   "source": [
    "# Dataset30k (https://www.kaggle.com/competitions/stable-diffusion-image-to-prompts/discussion/391500)\n",
    "# Objective embeddings\n",
    "FILES_OBJECTIVE_EMB.append(\"/kaggle/input/pub-embeddings-dataset30k/all_minilm_l6_v2/prompt_embeddings_allminilm_001.npy\")\n",
    "\n",
    "# CLIP text tembeddings\n",
    "FILES_CLIP_EMB.append(\"/kaggle/input/pub-embeddings-dataset30k/vith14/prompt_embedding_vith14_001.npy\")\n",
    "print(len(FILES_OBJECTIVE_EMB), len(FILES_CLIP_EMB))"
   ]
  },
  {
   "cell_type": "code",
   "execution_count": 11,
   "id": "7228876a",
   "metadata": {
    "execution": {
     "iopub.execute_input": "2023-05-15T08:05:30.752505Z",
     "iopub.status.busy": "2023-05-15T08:05:30.752120Z",
     "iopub.status.idle": "2023-05-15T08:05:30.763698Z",
     "shell.execute_reply": "2023-05-15T08:05:30.762381Z"
    },
    "papermill": {
     "duration": 0.032477,
     "end_time": "2023-05-15T08:05:30.766066",
     "exception": false,
     "start_time": "2023-05-15T08:05:30.733589",
     "status": "completed"
    },
    "tags": []
   },
   "outputs": [
    {
     "name": "stdout",
     "output_type": "stream",
     "text": [
      "158 158\n"
     ]
    }
   ],
   "source": [
    "# Dataset900k (https://www.kaggle.com/competitions/stable-diffusion-image-to-prompts/discussion/399699)\n",
    "# Objective embeddings\n",
    "FILES_OBJECTIVE_EMB += sorted(glob.glob(\"/kaggle/input/pub-embeddings-dataset900k/all_minilm_l6_v2/*.npy\"))\n",
    "\n",
    "# CLIP text tembeddings\n",
    "FILES_CLIP_EMB += sorted(glob.glob(\"/kaggle/input/pub-embeddings-dataset900k/vith14/*.npy\"))\n",
    "print(len(FILES_OBJECTIVE_EMB), len(FILES_CLIP_EMB))"
   ]
  },
  {
   "cell_type": "code",
   "execution_count": 12,
   "id": "98f2cf3d",
   "metadata": {
    "execution": {
     "iopub.execute_input": "2023-05-15T08:05:30.803653Z",
     "iopub.status.busy": "2023-05-15T08:05:30.803354Z",
     "iopub.status.idle": "2023-05-15T08:05:30.817775Z",
     "shell.execute_reply": "2023-05-15T08:05:30.816485Z"
    },
    "papermill": {
     "duration": 0.035998,
     "end_time": "2023-05-15T08:05:30.820127",
     "exception": false,
     "start_time": "2023-05-15T08:05:30.784129",
     "status": "completed"
    },
    "tags": []
   },
   "outputs": [
    {
     "name": "stdout",
     "output_type": "stream",
     "text": [
      "192 192\n"
     ]
    }
   ],
   "source": [
    "# Conceptual Captions\n",
    "# Objective embeddings\n",
    "FILES_OBJECTIVE_EMB += sorted(glob.glob(\"/kaggle/input/pub-embeddings-conceptual-captions/all_minilm_l6_v2/*.npy\"))\n",
    "\n",
    "# CLIP text tembeddings\n",
    "FILES_CLIP_EMB += sorted(glob.glob(\"/kaggle/input/pub-embeddings-conceptual-captions/vith14/*.npy\"))\n",
    "print(len(FILES_OBJECTIVE_EMB), len(FILES_CLIP_EMB))"
   ]
  },
  {
   "cell_type": "code",
   "execution_count": 13,
   "id": "ecb354c6",
   "metadata": {
    "execution": {
     "iopub.execute_input": "2023-05-15T08:05:30.857264Z",
     "iopub.status.busy": "2023-05-15T08:05:30.856977Z",
     "iopub.status.idle": "2023-05-15T08:05:30.867868Z",
     "shell.execute_reply": "2023-05-15T08:05:30.866561Z"
    },
    "papermill": {
     "duration": 0.032029,
     "end_time": "2023-05-15T08:05:30.870087",
     "exception": false,
     "start_time": "2023-05-15T08:05:30.838058",
     "status": "completed"
    },
    "tags": []
   },
   "outputs": [
    {
     "name": "stdout",
     "output_type": "stream",
     "text": [
      "193 193\n"
     ]
    }
   ],
   "source": [
    "# SD2GPT2 (https://www.kaggle.com/datasets/xiaozhouwang/sd2gpt2)\n",
    "# Objective embeddings\n",
    "FILES_OBJECTIVE_EMB += sorted(glob.glob(\"/kaggle/input/pub-embeddings-sd2gpt2/all_minilm_l6_v2/*.npy\"))\n",
    "\n",
    "# CLIP text tembeddings\n",
    "FILES_CLIP_EMB += sorted(glob.glob(\"/kaggle/input/pub-embeddings-sd2gpt2/vith14/*.npy\"))\n",
    "print(len(FILES_OBJECTIVE_EMB), len(FILES_CLIP_EMB))"
   ]
  },
  {
   "cell_type": "code",
   "execution_count": 14,
   "id": "e2bfd497",
   "metadata": {
    "execution": {
     "iopub.execute_input": "2023-05-15T08:05:30.907177Z",
     "iopub.status.busy": "2023-05-15T08:05:30.906904Z",
     "iopub.status.idle": "2023-05-15T08:05:30.918472Z",
     "shell.execute_reply": "2023-05-15T08:05:30.917042Z"
    },
    "papermill": {
     "duration": 0.032842,
     "end_time": "2023-05-15T08:05:30.920853",
     "exception": false,
     "start_time": "2023-05-15T08:05:30.888011",
     "status": "completed"
    },
    "tags": []
   },
   "outputs": [
    {
     "name": "stdout",
     "output_type": "stream",
     "text": [
      "194 194\n"
     ]
    }
   ],
   "source": [
    "# SD2Hardcode (https://www.kaggle.com/datasets/xiaozhouwang/sd2hardcode)\n",
    "# Objective embeddings\n",
    "FILES_OBJECTIVE_EMB += sorted(glob.glob(\"/kaggle/input/pub-embeddings-sd2hardcode/all_minilm_l6_v2/*.npy\"))\n",
    "\n",
    "# CLIP text tembeddings\n",
    "FILES_CLIP_EMB += sorted(glob.glob(\"/kaggle/input/pub-embeddings-sd2hardcode/vith14/*.npy\"))\n",
    "print(len(FILES_OBJECTIVE_EMB), len(FILES_CLIP_EMB))"
   ]
  },
  {
   "cell_type": "code",
   "execution_count": 15,
   "id": "e49dd455",
   "metadata": {
    "execution": {
     "iopub.execute_input": "2023-05-15T08:05:30.958503Z",
     "iopub.status.busy": "2023-05-15T08:05:30.957595Z",
     "iopub.status.idle": "2023-05-15T08:05:30.977950Z",
     "shell.execute_reply": "2023-05-15T08:05:30.976679Z"
    },
    "papermill": {
     "duration": 0.041409,
     "end_time": "2023-05-15T08:05:30.980157",
     "exception": false,
     "start_time": "2023-05-15T08:05:30.938748",
     "status": "completed"
    },
    "tags": []
   },
   "outputs": [
    {
     "name": "stdout",
     "output_type": "stream",
     "text": [
      "195 195\n"
     ]
    }
   ],
   "source": [
    "# ChatGPT (https://www.kaggle.com/competitions/stable-diffusion-image-to-prompts/discussion/402146)\n",
    "# Objective embeddings\n",
    "FILES_OBJECTIVE_EMB += sorted(glob.glob(\"/kaggle/input/pub-embeddings-chatgpt/all_minilm_l6_v2/*.npy\"))\n",
    "\n",
    "# CLIP text tembeddings\n",
    "FILES_CLIP_EMB += sorted(glob.glob(\"/kaggle/input/pub-embeddings-chatgpt/vith14/*.npy\"))\n",
    "print(len(FILES_OBJECTIVE_EMB), len(FILES_CLIP_EMB))\n"
   ]
  },
  {
   "cell_type": "code",
   "execution_count": 16,
   "id": "d6061ecc",
   "metadata": {
    "execution": {
     "iopub.execute_input": "2023-05-15T08:05:31.018209Z",
     "iopub.status.busy": "2023-05-15T08:05:31.017929Z",
     "iopub.status.idle": "2023-05-15T08:05:31.243498Z",
     "shell.execute_reply": "2023-05-15T08:05:31.242370Z"
    },
    "papermill": {
     "duration": 0.247621,
     "end_time": "2023-05-15T08:05:31.246089",
     "exception": false,
     "start_time": "2023-05-15T08:05:30.998468",
     "status": "completed"
    },
    "tags": []
   },
   "outputs": [
    {
     "name": "stdout",
     "output_type": "stream",
     "text": [
      "665 665\n"
     ]
    }
   ],
   "source": [
    "# Laion2B-en (https://huggingface.co/datasets/laion/laion2B-en)\n",
    "# (part0000-part0050 of 2000)\n",
    "\n",
    "# Objective embeddings\n",
    "FILES_OBJECTIVE_EMB += sorted(glob.glob(f\"/kaggle/input/pub-embeddings-laion2b-part0000-0004/all_minilm_l6_v2/*.npy\"))\n",
    "FILES_OBJECTIVE_EMB += sorted(glob.glob(f\"/kaggle/input/pub-embeddings-laion2b-part0005-0009/all_minilm_l6_v2/*.npy\"))\n",
    "FILES_OBJECTIVE_EMB += sorted(glob.glob(f\"/kaggle/input/pub-embeddings-laion2b-part0010-0014/all_minilm_l6_v2/*.npy\"))\n",
    "FILES_OBJECTIVE_EMB += sorted(glob.glob(f\"/kaggle/input/pub-embeddings-laion2b-part0015-0019/all_minilm_l6_v2/*.npy\"))\n",
    "FILES_OBJECTIVE_EMB += sorted(glob.glob(f\"/kaggle/input/pub-embeddings-laion2b-part0020-0024/all_minilm_l6_v2/*.npy\"))\n",
    "FILES_OBJECTIVE_EMB += sorted(glob.glob(f\"/kaggle/input/pub-embeddings-laion2b-part0025-0029/all_minilm_l6_v2/*.npy\"))\n",
    "FILES_OBJECTIVE_EMB += sorted(glob.glob(f\"/kaggle/input/pub-embeddings-laion2b-part0030-0034/all_minilm_l6_v2/*.npy\"))\n",
    "FILES_OBJECTIVE_EMB += sorted(glob.glob(f\"/kaggle/input/pub-embeddings-laion2b-part0035-0039/all_minilm_l6_v2/*.npy\"))\n",
    "FILES_OBJECTIVE_EMB += sorted(glob.glob(f\"/kaggle/input/pub-embeddings-laion2b-part0040-0044/all_minilm_l6_v2/*.npy\"))\n",
    "FILES_OBJECTIVE_EMB += sorted(glob.glob(f\"/kaggle/input/pub-embeddings-laion2b-part0045-0049/all_minilm_l6_v2/*.npy\"))\n",
    "\n",
    "# CLIP text tembeddings\n",
    "FILES_CLIP_EMB += sorted(glob.glob(f\"/kaggle/input/pub-embeddings-laion2b-part0000-0004/vith14/*.npy\"))\n",
    "FILES_CLIP_EMB += sorted(glob.glob(f\"/kaggle/input/pub-embeddings-laion2b-part0005-0009/vith14/*.npy\"))\n",
    "FILES_CLIP_EMB += sorted(glob.glob(f\"/kaggle/input/pub-embeddings-laion2b-part0010-0014/vith14/*.npy\"))\n",
    "FILES_CLIP_EMB += sorted(glob.glob(f\"/kaggle/input/pub-embeddings-laion2b-part0015-0019/vith14/*.npy\"))\n",
    "FILES_CLIP_EMB += sorted(glob.glob(f\"/kaggle/input/pub-embeddings-laion2b-part0020-0024/vith14/*.npy\"))\n",
    "FILES_CLIP_EMB += sorted(glob.glob(f\"/kaggle/input/pub-embeddings-laion2b-part0025-0029/vith14/*.npy\"))\n",
    "FILES_CLIP_EMB += sorted(glob.glob(f\"/kaggle/input/pub-embeddings-laion2b-part0030-0034/vith14/*.npy\"))\n",
    "FILES_CLIP_EMB += sorted(glob.glob(f\"/kaggle/input/pub-embeddings-laion2b-part0035-0039/vith14/*.npy\"))\n",
    "FILES_CLIP_EMB += sorted(glob.glob(f\"/kaggle/input/pub-embeddings-laion2b-part0040-0044/vith14/*.npy\"))\n",
    "FILES_CLIP_EMB += sorted(glob.glob(f\"/kaggle/input/pub-embeddings-laion2b-part0045-0049/vith14/*.npy\"))\n",
    "print(len(FILES_OBJECTIVE_EMB), len(FILES_CLIP_EMB))"
   ]
  },
  {
   "cell_type": "markdown",
   "id": "9e5b9fe9",
   "metadata": {
    "papermill": {
     "duration": 0.018334,
     "end_time": "2023-05-15T08:05:31.283168",
     "exception": false,
     "start_time": "2023-05-15T08:05:31.264834",
     "status": "completed"
    },
    "tags": []
   },
   "source": [
    "#### <a id=\"top\"></a>\n",
    "# <div style=\"box-shadow: rgb(60, 121, 245) 0px 0px 0px 3px inset, rgb(255, 255, 255) 10px -10px 0px -3px, rgb(31, 193, 27) 10px -10px, rgb(255, 255, 255) 20px -20px 0px -3px, rgb(255, 217, 19) 20px -20px, rgb(255, 255, 255) 30px -30px 0px -3px, rgb(255, 156, 85) 30px -30px, rgb(255, 255, 255) 40px -40px 0px -3px, rgb(255, 85, 85) 40px -40px; padding:20px; margin-right: 40px; font-size:30px; font-family: consolas; text-align:center; display:fill; border-radius:15px; color:rgb(60, 121, 245);\"><b> Generate CLIP vision embeddings </b></div>"
   ]
  },
  {
   "cell_type": "code",
   "execution_count": 17,
   "id": "4790fc09",
   "metadata": {
    "execution": {
     "iopub.execute_input": "2023-05-15T08:05:31.321711Z",
     "iopub.status.busy": "2023-05-15T08:05:31.321361Z",
     "iopub.status.idle": "2023-05-15T08:05:31.330020Z",
     "shell.execute_reply": "2023-05-15T08:05:31.328594Z"
    },
    "papermill": {
     "duration": 0.030442,
     "end_time": "2023-05-15T08:05:31.332323",
     "exception": false,
     "start_time": "2023-05-15T08:05:31.301881",
     "status": "completed"
    },
    "tags": []
   },
   "outputs": [
    {
     "name": "stdout",
     "output_type": "stream",
     "text": [
      "7\n"
     ]
    }
   ],
   "source": [
    "test_images = list(Path('/kaggle/input/stable-diffusion-image-to-prompts/images').glob('*.png'))\n",
    "print(len(test_images))"
   ]
  },
  {
   "cell_type": "code",
   "execution_count": 18,
   "id": "5c268454",
   "metadata": {
    "execution": {
     "iopub.execute_input": "2023-05-15T08:05:31.370227Z",
     "iopub.status.busy": "2023-05-15T08:05:31.369932Z",
     "iopub.status.idle": "2023-05-15T08:05:57.127196Z",
     "shell.execute_reply": "2023-05-15T08:05:57.126155Z"
    },
    "papermill": {
     "duration": 25.779811,
     "end_time": "2023-05-15T08:05:57.130280",
     "exception": false,
     "start_time": "2023-05-15T08:05:31.350469",
     "status": "completed"
    },
    "tags": []
   },
   "outputs": [],
   "source": [
    "# load CLIP vision model (Laion/ViTH14)\n",
    "clip_model = torch.jit.load(CFG.clip_model_path).cuda()\n",
    "clip_model = clip_model.cuda().eval().half();"
   ]
  },
  {
   "cell_type": "code",
   "execution_count": 19,
   "id": "89cddaf1",
   "metadata": {
    "execution": {
     "iopub.execute_input": "2023-05-15T08:05:57.168743Z",
     "iopub.status.busy": "2023-05-15T08:05:57.168383Z",
     "iopub.status.idle": "2023-05-15T08:05:57.182671Z",
     "shell.execute_reply": "2023-05-15T08:05:57.181754Z"
    },
    "papermill": {
     "duration": 0.035837,
     "end_time": "2023-05-15T08:05:57.185055",
     "exception": false,
     "start_time": "2023-05-15T08:05:57.149218",
     "status": "completed"
    },
    "tags": []
   },
   "outputs": [
    {
     "data": {
      "text/plain": [
       "Compose(\n",
       "    Resize(size=224, interpolation=bicubic, max_size=None, antialias=None)\n",
       "    CenterCrop(size=(224, 224))\n",
       "    <function _convert_to_rgb at 0x7c9a814f1290>\n",
       "    ToTensor()\n",
       "    Normalize(mean=(0.48145466, 0.4578275, 0.40821073), std=(0.26862954, 0.26130258, 0.27577711))\n",
       ")"
      ]
     },
     "execution_count": 19,
     "metadata": {},
     "output_type": "execute_result"
    }
   ],
   "source": [
    "# load transforms from pickele\n",
    "with open(CFG.clip_preproc_pkl, \"rb\") as fp:\n",
    "    saved_preprocess = pickle.load(fp)\n",
    "saved_preprocess"
   ]
  },
  {
   "cell_type": "code",
   "execution_count": 20,
   "id": "31a29d9a",
   "metadata": {
    "execution": {
     "iopub.execute_input": "2023-05-15T08:05:57.223097Z",
     "iopub.status.busy": "2023-05-15T08:05:57.222802Z",
     "iopub.status.idle": "2023-05-15T08:06:05.264450Z",
     "shell.execute_reply": "2023-05-15T08:06:05.262485Z"
    },
    "papermill": {
     "duration": 8.063872,
     "end_time": "2023-05-15T08:06:05.267433",
     "exception": false,
     "start_time": "2023-05-15T08:05:57.203561",
     "status": "completed"
    },
    "tags": []
   },
   "outputs": [
    {
     "data": {
      "application/vnd.jupyter.widget-view+json": {
       "model_id": "bb41b216de334495bda7fad0ba8bccbe",
       "version_major": 2,
       "version_minor": 0
      },
      "text/plain": [
       "  0%|          | 0/7 [00:00<?, ?it/s]"
      ]
     },
     "metadata": {},
     "output_type": "display_data"
    },
    {
     "name": "stdout",
     "output_type": "stream",
     "text": [
      "(7, 1024)\n"
     ]
    }
   ],
   "source": [
    "# Inference with CLIP vision encoder\n",
    "test_vision_embeddings = []\n",
    "for test_image in tqdm(test_images):\n",
    "    image = Image.open( test_image )\n",
    "    prep = saved_preprocess(image).unsqueeze(0).to(device)\n",
    "    embedding = clip_model(prep.half())\n",
    "    test_vision_embeddings.append( embedding.detach().cpu().numpy() )\n",
    "test_vision_embeddings = np.concatenate(test_vision_embeddings).astype(np.float16)\n",
    "print(test_vision_embeddings.shape)"
   ]
  },
  {
   "cell_type": "code",
   "execution_count": 21,
   "id": "98495330",
   "metadata": {
    "execution": {
     "iopub.execute_input": "2023-05-15T08:06:05.306786Z",
     "iopub.status.busy": "2023-05-15T08:06:05.306416Z",
     "iopub.status.idle": "2023-05-15T08:06:05.736699Z",
     "shell.execute_reply": "2023-05-15T08:06:05.734677Z"
    },
    "papermill": {
     "duration": 0.452947,
     "end_time": "2023-05-15T08:06:05.739809",
     "exception": false,
     "start_time": "2023-05-15T08:06:05.286862",
     "status": "completed"
    },
    "tags": []
   },
   "outputs": [
    {
     "data": {
      "text/plain": [
       "5264"
      ]
     },
     "execution_count": 21,
     "metadata": {},
     "output_type": "execute_result"
    }
   ],
   "source": [
    "del clip_model, prep, image, embedding\n",
    "gc.collect()"
   ]
  },
  {
   "cell_type": "code",
   "execution_count": 22,
   "id": "79a593c7",
   "metadata": {
    "execution": {
     "iopub.execute_input": "2023-05-15T08:06:05.810751Z",
     "iopub.status.busy": "2023-05-15T08:06:05.809006Z",
     "iopub.status.idle": "2023-05-15T08:06:05.822114Z",
     "shell.execute_reply": "2023-05-15T08:06:05.820797Z"
    },
    "papermill": {
     "duration": 0.05675,
     "end_time": "2023-05-15T08:06:05.827190",
     "exception": false,
     "start_time": "2023-05-15T08:06:05.770440",
     "status": "completed"
    },
    "tags": []
   },
   "outputs": [
    {
     "name": "stdout",
     "output_type": "stream",
     "text": [
      "!!! Debug mode !!!\n",
      "len(FILES_OBJECTIVE_EMB)=5\n",
      "len(FILES_CLIP_EMB)=5\n"
     ]
    }
   ],
   "source": [
    "# Reduce the number of files as debugging.\n",
    "if test_vision_embeddings.shape[0] == 7:   # 7 public test images\n",
    "    FILES_OBJECTIVE_EMB = FILES_OBJECTIVE_EMB[:5]\n",
    "    FILES_CLIP_EMB = FILES_CLIP_EMB[:5]\n",
    "    print(f\"!!! Debug mode !!!\")\n",
    "    print(f\"len(FILES_OBJECTIVE_EMB)={len(FILES_OBJECTIVE_EMB)}\")\n",
    "    print(f\"len(FILES_CLIP_EMB)={len(FILES_CLIP_EMB)}\")"
   ]
  },
  {
   "cell_type": "markdown",
   "id": "f55ac295",
   "metadata": {
    "papermill": {
     "duration": 0.027776,
     "end_time": "2023-05-15T08:06:05.898769",
     "exception": false,
     "start_time": "2023-05-15T08:06:05.870993",
     "status": "completed"
    },
    "tags": []
   },
   "source": [
    "#### <a id=\"top\"></a>\n",
    "# <div style=\"box-shadow: rgb(60, 121, 245) 0px 0px 0px 3px inset, rgb(255, 255, 255) 10px -10px 0px -3px, rgb(31, 193, 27) 10px -10px, rgb(255, 255, 255) 20px -20px 0px -3px, rgb(255, 217, 19) 20px -20px, rgb(255, 255, 255) 30px -30px 0px -3px, rgb(255, 156, 85) 30px -30px, rgb(255, 255, 255) 40px -40px 0px -3px, rgb(255, 85, 85) 40px -40px; padding:20px; margin-right: 40px; font-size:30px; font-family: consolas; text-align:center; display:fill; border-radius:15px; color:rgb(60, 121, 245);\"><b> k-NN Regression (CUDA) </b></div>\n"
   ]
  },
  {
   "cell_type": "code",
   "execution_count": 23,
   "id": "c5ab2487",
   "metadata": {
    "execution": {
     "iopub.execute_input": "2023-05-15T08:06:05.954819Z",
     "iopub.status.busy": "2023-05-15T08:06:05.953711Z",
     "iopub.status.idle": "2023-05-15T08:06:05.969891Z",
     "shell.execute_reply": "2023-05-15T08:06:05.968789Z"
    },
    "papermill": {
     "duration": 0.043708,
     "end_time": "2023-05-15T08:06:05.972383",
     "exception": false,
     "start_time": "2023-05-15T08:06:05.928675",
     "status": "completed"
    },
    "tags": []
   },
   "outputs": [],
   "source": [
    "def predict_local_knn(\n",
    "    ref_x_embeddings, test_x_embeddings, \n",
    "    n_neighbors=CFG.knn_topk,\n",
    "    interval=CFG.knn_interval,\n",
    "    distance_dim=CFG.knn_dim,\n",
    "    coef=1.0, # a coef to prevent from overflow\n",
    "):\n",
    "    \n",
    "    # convert to tensor\n",
    "    ref_x_embeddings = torch.from_numpy(ref_x_embeddings).to('cuda')\n",
    "    ref_x_embeddings /= ref_x_embeddings.norm(dim=-1, keepdim=True)\n",
    "    \n",
    "    n_iter = test_x_embeddings.shape[0]//interval\n",
    "    if test_x_embeddings.shape[0]%interval != 0:\n",
    "        n_iter += 1\n",
    "        \n",
    "    dist_topk_store = []\n",
    "    idxs_topk_store = []\n",
    "    weights_store = []\n",
    "    preds = []\n",
    "    delta = 0.0001\n",
    "    for i in range(n_iter):\n",
    "        batch_test_embeddings = torch.from_numpy(\n",
    "            test_x_embeddings[i*interval:(i+1)*interval, :].copy()\n",
    "        ).to('cuda')\n",
    "        batch_test_embeddings /= batch_test_embeddings.norm(dim=-1, keepdim=True)\n",
    "        \n",
    "        # calc distance matrix\n",
    "        dists = 1 - torch.mm(batch_test_embeddings, ref_x_embeddings.T) # dists.shape=[N_test, N_ref]\n",
    "        del batch_test_embeddings\n",
    "        gc.collect()\n",
    "        \n",
    "        # get topk indecies and distance 找到最相似的k个样本\n",
    "        dist_topk, idxs_topk = torch.topk(dists, n_neighbors, largest=False, dim=-1)\n",
    "        dist_topk = dist_topk.to(torch.float64)        \n",
    "        \n",
    "        # calc weights from distance\n",
    "        weights = 1/(dist_topk**distance_dim+delta)*coef\n",
    "        weights[ dist_topk < 0 ] = delta\n",
    "        \n",
    "        dist_topk_store.append( dist_topk.to('cpu').detach().numpy().copy() )\n",
    "        idxs_topk_store.append( idxs_topk.to('cpu').detach().numpy().copy() )\n",
    "        weights_store.append( weights.to('cpu').detach().numpy().copy() )\n",
    "                \n",
    "        del dists, weights, dist_topk, idxs_topk\n",
    "        torch.cuda.empty_cache()\n",
    "        gc.collect()\n",
    "        \n",
    "    del ref_x_embeddings\n",
    "    torch.cuda.empty_cache()\n",
    "    gc.collect()\n",
    "    return np.concatenate(dist_topk_store), np.concatenate(idxs_topk_store), np.concatenate(weights_store)"
   ]
  },
  {
   "cell_type": "code",
   "execution_count": 24,
   "id": "b4f9912e",
   "metadata": {
    "execution": {
     "iopub.execute_input": "2023-05-15T08:06:06.011640Z",
     "iopub.status.busy": "2023-05-15T08:06:06.011324Z",
     "iopub.status.idle": "2023-05-15T08:06:29.413762Z",
     "shell.execute_reply": "2023-05-15T08:06:29.412664Z"
    },
    "papermill": {
     "duration": 23.425905,
     "end_time": "2023-05-15T08:06:29.417245",
     "exception": false,
     "start_time": "2023-05-15T08:06:05.991340",
     "status": "completed"
    },
    "tags": []
   },
   "outputs": [
    {
     "data": {
      "application/vnd.jupyter.widget-view+json": {
       "model_id": "7095f2e3bbed4032a4708af0fe6b6ee1",
       "version_major": 2,
       "version_minor": 0
      },
      "text/plain": [
       "  0%|          | 0/5 [00:00<?, ?it/s]"
      ]
     },
     "metadata": {},
     "output_type": "display_data"
    }
   ],
   "source": [
    "for i_file, file_clip_emb in enumerate(tqdm(FILES_CLIP_EMB)):\n",
    "    # Local k-NN (for each CLIP embeddings file VS CLIP vision embeddings of test images)\n",
    "    ref_clip_embeddings = np.load(file_clip_emb).astype(np.float16)\n",
    "    with torch.no_grad():\n",
    "        local_dists, local_emb_indecies, local_weights = predict_local_knn(\n",
    "            ref_clip_embeddings, test_vision_embeddings,\n",
    "            n_neighbors=CFG.knn_topk, interval=CFG.knn_interval, distance_dim=CFG.knn_dim,\n",
    "            coef=0.001\n",
    "        )\n",
    "    local_files = np.zeros(local_dists.shape, dtype=np.int32) + i_file\n",
    "    \n",
    "    # merge local k-NN into global k-NN\n",
    "    if i_file == 0:\n",
    "        global_files = local_files\n",
    "        global_dists = local_dists\n",
    "        global_emb_indecies = local_emb_indecies\n",
    "        global_weights = local_weights\n",
    "    else:\n",
    "        global_files = np.concatenate([global_files, local_files], axis=-1)\n",
    "        global_dists = np.concatenate([global_dists, local_dists], axis=-1)\n",
    "        global_emb_indecies = np.concatenate([global_emb_indecies, local_emb_indecies], axis=-1)\n",
    "        global_weights = np.concatenate([global_weights, local_weights], axis=-1)\n",
    "\n",
    "        unsorted_min_indices = np.argpartition(global_dists, CFG.knn_topk, axis=1)[:, :CFG.knn_topk]\n",
    "\n",
    "        global_files = np.vstack( [ global_files[i, unsorted_min_indices[i,:]] for i in range(unsorted_min_indices.shape[0]) ])\n",
    "        global_dists = np.vstack( [ global_dists[i, unsorted_min_indices[i,:]] for i in range(unsorted_min_indices.shape[0]) ])\n",
    "        global_emb_indecies = np.vstack( [ global_emb_indecies[i, unsorted_min_indices[i,:]] for i in range(unsorted_min_indices.shape[0]) ])\n",
    "        global_weights = np.vstack( [ global_weights[i, unsorted_min_indices[i,:]] for i in range(unsorted_min_indices.shape[0]) ])\n",
    "    \n",
    "    gc.collect()"
   ]
  },
  {
   "cell_type": "code",
   "execution_count": 25,
   "id": "b3c35ac9",
   "metadata": {
    "execution": {
     "iopub.execute_input": "2023-05-15T08:06:29.458006Z",
     "iopub.status.busy": "2023-05-15T08:06:29.457267Z",
     "iopub.status.idle": "2023-05-15T08:06:29.496789Z",
     "shell.execute_reply": "2023-05-15T08:06:29.495552Z"
    },
    "papermill": {
     "duration": 0.062421,
     "end_time": "2023-05-15T08:06:29.499335",
     "exception": false,
     "start_time": "2023-05-15T08:06:29.436914",
     "status": "completed"
    },
    "tags": []
   },
   "outputs": [
    {
     "data": {
      "text/html": [
       "<div>\n",
       "<style scoped>\n",
       "    .dataframe tbody tr th:only-of-type {\n",
       "        vertical-align: middle;\n",
       "    }\n",
       "\n",
       "    .dataframe tbody tr th {\n",
       "        vertical-align: top;\n",
       "    }\n",
       "\n",
       "    .dataframe thead th {\n",
       "        text-align: right;\n",
       "    }\n",
       "</style>\n",
       "<table border=\"1\" class=\"dataframe\">\n",
       "  <thead>\n",
       "    <tr style=\"text-align: right;\">\n",
       "      <th></th>\n",
       "      <th>file</th>\n",
       "      <th>dist</th>\n",
       "      <th>emb_index</th>\n",
       "      <th>test_index</th>\n",
       "      <th>weight</th>\n",
       "    </tr>\n",
       "  </thead>\n",
       "  <tbody>\n",
       "    <tr>\n",
       "      <th>0</th>\n",
       "      <td>/kaggle/input/pub-embeddings-diffusiondb-14m-p...</td>\n",
       "      <td>0.708496</td>\n",
       "      <td>88960</td>\n",
       "      <td>0</td>\n",
       "      <td>0.007900</td>\n",
       "    </tr>\n",
       "    <tr>\n",
       "      <th>1</th>\n",
       "      <td>/kaggle/input/pub-embeddings-diffusiondb-14m-p...</td>\n",
       "      <td>0.709961</td>\n",
       "      <td>98421</td>\n",
       "      <td>0</td>\n",
       "      <td>0.007803</td>\n",
       "    </tr>\n",
       "    <tr>\n",
       "      <th>2</th>\n",
       "      <td>/kaggle/input/pub-embeddings-diffusiondb-14m-p...</td>\n",
       "      <td>0.727051</td>\n",
       "      <td>44001</td>\n",
       "      <td>0</td>\n",
       "      <td>0.006766</td>\n",
       "    </tr>\n",
       "    <tr>\n",
       "      <th>3</th>\n",
       "      <td>/kaggle/input/pub-embeddings-diffusiondb-14m-p...</td>\n",
       "      <td>0.727051</td>\n",
       "      <td>44468</td>\n",
       "      <td>0</td>\n",
       "      <td>0.006766</td>\n",
       "    </tr>\n",
       "    <tr>\n",
       "      <th>4</th>\n",
       "      <td>/kaggle/input/pub-embeddings-diffusiondb-14m-p...</td>\n",
       "      <td>0.740723</td>\n",
       "      <td>31694</td>\n",
       "      <td>0</td>\n",
       "      <td>0.006051</td>\n",
       "    </tr>\n",
       "    <tr>\n",
       "      <th>...</th>\n",
       "      <td>...</td>\n",
       "      <td>...</td>\n",
       "      <td>...</td>\n",
       "      <td>...</td>\n",
       "      <td>...</td>\n",
       "    </tr>\n",
       "    <tr>\n",
       "      <th>1045</th>\n",
       "      <td>/kaggle/input/pub-embeddings-diffusiondb-14m-p...</td>\n",
       "      <td>0.679688</td>\n",
       "      <td>6887</td>\n",
       "      <td>6</td>\n",
       "      <td>0.010132</td>\n",
       "    </tr>\n",
       "    <tr>\n",
       "      <th>1046</th>\n",
       "      <td>/kaggle/input/pub-embeddings-diffusiondb-14m-p...</td>\n",
       "      <td>0.679688</td>\n",
       "      <td>27784</td>\n",
       "      <td>6</td>\n",
       "      <td>0.010132</td>\n",
       "    </tr>\n",
       "    <tr>\n",
       "      <th>1047</th>\n",
       "      <td>/kaggle/input/pub-embeddings-diffusiondb-14m-p...</td>\n",
       "      <td>0.680176</td>\n",
       "      <td>92734</td>\n",
       "      <td>6</td>\n",
       "      <td>0.010089</td>\n",
       "    </tr>\n",
       "    <tr>\n",
       "      <th>1048</th>\n",
       "      <td>/kaggle/input/pub-embeddings-diffusiondb-14m-p...</td>\n",
       "      <td>0.680176</td>\n",
       "      <td>92733</td>\n",
       "      <td>6</td>\n",
       "      <td>0.010089</td>\n",
       "    </tr>\n",
       "    <tr>\n",
       "      <th>1049</th>\n",
       "      <td>/kaggle/input/pub-embeddings-diffusiondb-14m-p...</td>\n",
       "      <td>0.680176</td>\n",
       "      <td>92738</td>\n",
       "      <td>6</td>\n",
       "      <td>0.010089</td>\n",
       "    </tr>\n",
       "  </tbody>\n",
       "</table>\n",
       "<p>1050 rows × 5 columns</p>\n",
       "</div>"
      ],
      "text/plain": [
       "                                                   file      dist  emb_index  \\\n",
       "0     /kaggle/input/pub-embeddings-diffusiondb-14m-p...  0.708496      88960   \n",
       "1     /kaggle/input/pub-embeddings-diffusiondb-14m-p...  0.709961      98421   \n",
       "2     /kaggle/input/pub-embeddings-diffusiondb-14m-p...  0.727051      44001   \n",
       "3     /kaggle/input/pub-embeddings-diffusiondb-14m-p...  0.727051      44468   \n",
       "4     /kaggle/input/pub-embeddings-diffusiondb-14m-p...  0.740723      31694   \n",
       "...                                                 ...       ...        ...   \n",
       "1045  /kaggle/input/pub-embeddings-diffusiondb-14m-p...  0.679688       6887   \n",
       "1046  /kaggle/input/pub-embeddings-diffusiondb-14m-p...  0.679688      27784   \n",
       "1047  /kaggle/input/pub-embeddings-diffusiondb-14m-p...  0.680176      92734   \n",
       "1048  /kaggle/input/pub-embeddings-diffusiondb-14m-p...  0.680176      92733   \n",
       "1049  /kaggle/input/pub-embeddings-diffusiondb-14m-p...  0.680176      92738   \n",
       "\n",
       "      test_index    weight  \n",
       "0              0  0.007900  \n",
       "1              0  0.007803  \n",
       "2              0  0.006766  \n",
       "3              0  0.006766  \n",
       "4              0  0.006051  \n",
       "...          ...       ...  \n",
       "1045           6  0.010132  \n",
       "1046           6  0.010132  \n",
       "1047           6  0.010089  \n",
       "1048           6  0.010089  \n",
       "1049           6  0.010089  \n",
       "\n",
       "[1050 rows x 5 columns]"
      ]
     },
     "execution_count": 25,
     "metadata": {},
     "output_type": "execute_result"
    }
   ],
   "source": [
    "df_knn = pd.DataFrame()\n",
    "df_knn[\"file\"] = global_files.flatten()\n",
    "df_knn[\"file\"] = df_knn['file'].apply(lambda x: FILES_OBJECTIVE_EMB[x])\n",
    "df_knn[\"dist\"] = global_dists.flatten()\n",
    "df_knn[\"emb_index\"] = global_emb_indecies.flatten()\n",
    "df_knn[\"test_index\"] = np.array([ [val]*CFG.knn_topk for val in range(test_vision_embeddings.shape[0])]).flatten()\n",
    "df_knn[\"weight\"] = global_weights.flatten()\n",
    "df_knn"
   ]
  },
  {
   "cell_type": "code",
   "execution_count": 26,
   "id": "2ec49d8e",
   "metadata": {
    "execution": {
     "iopub.execute_input": "2023-05-15T08:06:29.543595Z",
     "iopub.status.busy": "2023-05-15T08:06:29.543240Z",
     "iopub.status.idle": "2023-05-15T08:06:29.697820Z",
     "shell.execute_reply": "2023-05-15T08:06:29.696755Z"
    },
    "papermill": {
     "duration": 0.179522,
     "end_time": "2023-05-15T08:06:29.700591",
     "exception": false,
     "start_time": "2023-05-15T08:06:29.521069",
     "status": "completed"
    },
    "tags": []
   },
   "outputs": [
    {
     "data": {
      "text/plain": [
       "39"
      ]
     },
     "execution_count": 26,
     "metadata": {},
     "output_type": "execute_result"
    }
   ],
   "source": [
    "gc.collect()"
   ]
  },
  {
   "cell_type": "code",
   "execution_count": 27,
   "id": "d4d7570c",
   "metadata": {
    "execution": {
     "iopub.execute_input": "2023-05-15T08:06:29.746940Z",
     "iopub.status.busy": "2023-05-15T08:06:29.745865Z",
     "iopub.status.idle": "2023-05-15T08:06:32.774839Z",
     "shell.execute_reply": "2023-05-15T08:06:32.773744Z"
    },
    "papermill": {
     "duration": 3.054496,
     "end_time": "2023-05-15T08:06:32.777751",
     "exception": false,
     "start_time": "2023-05-15T08:06:29.723255",
     "status": "completed"
    },
    "tags": []
   },
   "outputs": [
    {
     "data": {
      "application/vnd.jupyter.widget-view+json": {
       "model_id": "53b3b75a76394fb59ff6eca031b0d200",
       "version_major": 2,
       "version_minor": 0
      },
      "text/plain": [
       "  0%|          | 0/5 [00:00<?, ?it/s]"
      ]
     },
     "metadata": {},
     "output_type": "display_data"
    }
   ],
   "source": [
    "# k-NN regression\n",
    "test_prompt_embeddings = np.zeros( (test_vision_embeddings.shape[0], 384))\n",
    "for (objective_emb_file, gdf) in tqdm(df_knn.groupby(\"file\")):\n",
    "    ref_objective_embeddings = np.load(objective_emb_file).astype(np.float16) \n",
    "    for _, r in gdf.iterrows():\n",
    "        test_prompt_embeddings[int(r.test_index), :] += r.weight * ref_objective_embeddings[int(r.emb_index), :]"
   ]
  },
  {
   "cell_type": "code",
   "execution_count": 28,
   "id": "d524335d",
   "metadata": {
    "execution": {
     "iopub.execute_input": "2023-05-15T08:06:32.819559Z",
     "iopub.status.busy": "2023-05-15T08:06:32.819229Z",
     "iopub.status.idle": "2023-05-15T08:06:32.985912Z",
     "shell.execute_reply": "2023-05-15T08:06:32.984617Z"
    },
    "papermill": {
     "duration": 0.190489,
     "end_time": "2023-05-15T08:06:32.988639",
     "exception": false,
     "start_time": "2023-05-15T08:06:32.798150",
     "status": "completed"
    },
    "tags": []
   },
   "outputs": [
    {
     "data": {
      "text/plain": [
       "122"
      ]
     },
     "execution_count": 28,
     "metadata": {},
     "output_type": "execute_result"
    }
   ],
   "source": [
    "# L2 norm\n",
    "BS=1000\n",
    "num = test_prompt_embeddings.shape[0] // BS\n",
    "if test_prompt_embeddings.shape[0] % BS != 0:\n",
    "    num+=1\n",
    "for i in range(num):\n",
    "    embeddings = test_prompt_embeddings[i*BS:(i+1)*BS, :]\n",
    "    embeddings = embeddings / ( np.abs(embeddings).max(axis=-1, keepdims=True) + 0.0000001)\n",
    "    embeddings = normalize( embeddings )\n",
    "    test_prompt_embeddings[i*BS:(i+1)*BS, :] = embeddings\n",
    "    \n",
    "gc.collect()"
   ]
  },
  {
   "cell_type": "code",
   "execution_count": 29,
   "id": "e07b90b8",
   "metadata": {
    "execution": {
     "iopub.execute_input": "2023-05-15T08:06:33.036848Z",
     "iopub.status.busy": "2023-05-15T08:06:33.035633Z",
     "iopub.status.idle": "2023-05-15T08:06:33.042378Z",
     "shell.execute_reply": "2023-05-15T08:06:33.041332Z"
    },
    "papermill": {
     "duration": 0.033302,
     "end_time": "2023-05-15T08:06:33.044820",
     "exception": false,
     "start_time": "2023-05-15T08:06:33.011518",
     "status": "completed"
    },
    "tags": []
   },
   "outputs": [],
   "source": [
    "test_prompt_embeddings = test_prompt_embeddings.flatten()"
   ]
  },
  {
   "cell_type": "code",
   "execution_count": null,
   "id": "d9d82292",
   "metadata": {
    "papermill": {
     "duration": 0.019491,
     "end_time": "2023-05-15T08:06:33.084791",
     "exception": false,
     "start_time": "2023-05-15T08:06:33.065300",
     "status": "completed"
    },
    "tags": []
   },
   "outputs": [],
   "source": []
  },
  {
   "cell_type": "code",
   "execution_count": 30,
   "id": "28048a62",
   "metadata": {
    "execution": {
     "iopub.execute_input": "2023-05-15T08:06:33.126944Z",
     "iopub.status.busy": "2023-05-15T08:06:33.125115Z",
     "iopub.status.idle": "2023-05-15T08:06:33.131440Z",
     "shell.execute_reply": "2023-05-15T08:06:33.130488Z"
    },
    "papermill": {
     "duration": 0.029414,
     "end_time": "2023-05-15T08:06:33.133805",
     "exception": false,
     "start_time": "2023-05-15T08:06:33.104391",
     "status": "completed"
    },
    "tags": []
   },
   "outputs": [],
   "source": [
    "wheels_path = \"/kaggle/input/clip-interrogator-wheels-x\"\n",
    "clip_interrogator_whl_path = f\"{wheels_path}/clip_interrogator-0.4.3-py3-none-any.whl\""
   ]
  },
  {
   "cell_type": "code",
   "execution_count": 31,
   "id": "995bf7b1",
   "metadata": {
    "execution": {
     "iopub.execute_input": "2023-05-15T08:06:33.174242Z",
     "iopub.status.busy": "2023-05-15T08:06:33.173920Z",
     "iopub.status.idle": "2023-05-15T08:06:45.291308Z",
     "shell.execute_reply": "2023-05-15T08:06:45.289987Z"
    },
    "papermill": {
     "duration": 12.140979,
     "end_time": "2023-05-15T08:06:45.294275",
     "exception": false,
     "start_time": "2023-05-15T08:06:33.153296",
     "status": "completed"
    },
    "tags": []
   },
   "outputs": [
    {
     "name": "stdout",
     "output_type": "stream",
     "text": [
      "\u001b[33mWARNING: Running pip as the 'root' user can result in broken permissions and conflicting behaviour with the system package manager. It is recommended to use a virtual environment instead: https://pip.pypa.io/warnings/venv\u001b[0m\u001b[33m\r\n",
      "\u001b[0m"
     ]
    }
   ],
   "source": [
    "!pip install --no-index --find-links $wheels_path $clip_interrogator_whl_path -q"
   ]
  },
  {
   "cell_type": "code",
   "execution_count": 32,
   "id": "b4468c08",
   "metadata": {
    "execution": {
     "iopub.execute_input": "2023-05-15T08:06:45.337071Z",
     "iopub.status.busy": "2023-05-15T08:06:45.336031Z",
     "iopub.status.idle": "2023-05-15T08:06:45.407321Z",
     "shell.execute_reply": "2023-05-15T08:06:45.406286Z"
    },
    "papermill": {
     "duration": 0.095524,
     "end_time": "2023-05-15T08:06:45.410156",
     "exception": false,
     "start_time": "2023-05-15T08:06:45.314632",
     "status": "completed"
    },
    "tags": []
   },
   "outputs": [],
   "source": [
    "import inspect\n",
    "import importlib\n",
    "\n",
    "from blip.models import blip\n",
    "from clip_interrogator import clip_interrogator"
   ]
  },
  {
   "cell_type": "code",
   "execution_count": 33,
   "id": "5677febe",
   "metadata": {
    "execution": {
     "iopub.execute_input": "2023-05-15T08:06:45.455209Z",
     "iopub.status.busy": "2023-05-15T08:06:45.453474Z",
     "iopub.status.idle": "2023-05-15T08:06:45.467736Z",
     "shell.execute_reply": "2023-05-15T08:06:45.466640Z"
    },
    "papermill": {
     "duration": 0.03846,
     "end_time": "2023-05-15T08:06:45.470056",
     "exception": false,
     "start_time": "2023-05-15T08:06:45.431596",
     "status": "completed"
    },
    "tags": []
   },
   "outputs": [
    {
     "data": {
      "text/plain": [
       "<module 'blip.models.blip' from '/opt/conda/lib/python3.7/site-packages/blip/models/blip.py'>"
      ]
     },
     "execution_count": 33,
     "metadata": {},
     "output_type": "execute_result"
    }
   ],
   "source": [
    "# replace tokenizer path to prevent downloading\n",
    "blip_path = inspect.getfile(blip)\n",
    "\n",
    "fin = open(blip_path, \"rt\")\n",
    "data = fin.read()\n",
    "data = data.replace(\n",
    "    \"BertTokenizer.from_pretrained('bert-base-uncased')\", \n",
    "    \"BertTokenizer.from_pretrained('/kaggle/input/clip-interrogator-models-x/bert-base-uncased')\"\n",
    ")\n",
    "fin.close()\n",
    "\n",
    "fin = open(blip_path, \"wt\")\n",
    "fin.write(data)\n",
    "fin.close()\n",
    "\n",
    "# reload module\n",
    "importlib.reload(blip)"
   ]
  },
  {
   "cell_type": "code",
   "execution_count": 34,
   "id": "61b3ed4a",
   "metadata": {
    "execution": {
     "iopub.execute_input": "2023-05-15T08:06:45.512970Z",
     "iopub.status.busy": "2023-05-15T08:06:45.511972Z",
     "iopub.status.idle": "2023-05-15T08:06:45.529550Z",
     "shell.execute_reply": "2023-05-15T08:06:45.528465Z"
    },
    "papermill": {
     "duration": 0.041696,
     "end_time": "2023-05-15T08:06:45.532244",
     "exception": false,
     "start_time": "2023-05-15T08:06:45.490548",
     "status": "completed"
    },
    "tags": []
   },
   "outputs": [
    {
     "data": {
      "text/plain": [
       "<module 'clip_interrogator.clip_interrogator' from '/opt/conda/lib/python3.7/site-packages/clip_interrogator/clip_interrogator.py'>"
      ]
     },
     "execution_count": 34,
     "metadata": {},
     "output_type": "execute_result"
    }
   ],
   "source": [
    "# fix clip_interrogator bug\n",
    "clip_interrogator_path = inspect.getfile(clip_interrogator.Interrogator)\n",
    "\n",
    "fin = open(clip_interrogator_path, \"rt\")\n",
    "data = fin.read()\n",
    "data = data.replace(\n",
    "    'open_clip.get_tokenizer(clip_model_name)', \n",
    "    'open_clip.get_tokenizer(config.clip_model_name.split(\"/\", 2)[0])'\n",
    ")\n",
    "fin.close()\n",
    "\n",
    "fin = open(clip_interrogator_path, \"wt\")\n",
    "fin.write(data)\n",
    "fin.close()\n",
    "\n",
    "# reload module\n",
    "importlib.reload(clip_interrogator)"
   ]
  },
  {
   "cell_type": "code",
   "execution_count": 35,
   "id": "29a95cfe",
   "metadata": {
    "execution": {
     "iopub.execute_input": "2023-05-15T08:06:45.574533Z",
     "iopub.status.busy": "2023-05-15T08:06:45.573911Z",
     "iopub.status.idle": "2023-05-15T08:06:46.382231Z",
     "shell.execute_reply": "2023-05-15T08:06:46.381160Z"
    },
    "papermill": {
     "duration": 0.832656,
     "end_time": "2023-05-15T08:06:46.385319",
     "exception": false,
     "start_time": "2023-05-15T08:06:45.552663",
     "status": "completed"
    },
    "tags": []
   },
   "outputs": [],
   "source": [
    "import os\n",
    "import sys\n",
    "from PIL import Image\n",
    "from pathlib import Path\n",
    "import matplotlib.pyplot as plt \n",
    "\n",
    "import numpy as np\n",
    "import pandas as pd\n",
    "import torch\n",
    "import open_clip\n",
    "\n",
    "sys.path.append('../input/sentence-transformers-222/sentence-transformers')\n",
    "from sentence_transformers import SentenceTransformer, models\n",
    "\n",
    "comp_path = Path('/kaggle/input/stable-diffusion-image-to-prompts/')"
   ]
  },
  {
   "cell_type": "code",
   "execution_count": 36,
   "id": "c98e72e7",
   "metadata": {
    "execution": {
     "iopub.execute_input": "2023-05-15T08:06:46.427826Z",
     "iopub.status.busy": "2023-05-15T08:06:46.427461Z",
     "iopub.status.idle": "2023-05-15T08:06:46.433505Z",
     "shell.execute_reply": "2023-05-15T08:06:46.432288Z"
    },
    "papermill": {
     "duration": 0.029644,
     "end_time": "2023-05-15T08:06:46.435779",
     "exception": false,
     "start_time": "2023-05-15T08:06:46.406135",
     "status": "completed"
    },
    "tags": []
   },
   "outputs": [],
   "source": [
    "class CFG:\n",
    "    device = \"cuda\"\n",
    "    seed = 42\n",
    "    embedding_length = 384\n",
    "    sentence_model_path = \"/kaggle/input/sentence-transformers-222/all-MiniLM-L6-v2\"\n",
    "    blip_model_path = \"/kaggle/input/clip-interrogator-models-x/model_large_caption.pth\"\n",
    "    ci_clip_model_name = \"ViT-H-14/laion2b_s32b_b79k\"\n",
    "    clip_model_name = \"ViT-H-14\"\n",
    "    clip_model_path = \"/kaggle/input/clip-interrogator-models-x/CLIP-ViT-H-14-laion2B-s32B-b79K/open_clip_pytorch_model.bin\"\n",
    "    cache_path = \"/kaggle/input/clip-interrogator-models-x\""
   ]
  },
  {
   "cell_type": "code",
   "execution_count": 37,
   "id": "1078200a",
   "metadata": {
    "execution": {
     "iopub.execute_input": "2023-05-15T08:06:46.479124Z",
     "iopub.status.busy": "2023-05-15T08:06:46.478063Z",
     "iopub.status.idle": "2023-05-15T08:06:46.501608Z",
     "shell.execute_reply": "2023-05-15T08:06:46.500310Z"
    },
    "papermill": {
     "duration": 0.04842,
     "end_time": "2023-05-15T08:06:46.504594",
     "exception": false,
     "start_time": "2023-05-15T08:06:46.456174",
     "status": "completed"
    },
    "tags": []
   },
   "outputs": [
    {
     "data": {
      "text/html": [
       "<div>\n",
       "<style scoped>\n",
       "    .dataframe tbody tr th:only-of-type {\n",
       "        vertical-align: middle;\n",
       "    }\n",
       "\n",
       "    .dataframe tbody tr th {\n",
       "        vertical-align: top;\n",
       "    }\n",
       "\n",
       "    .dataframe thead th {\n",
       "        text-align: right;\n",
       "    }\n",
       "</style>\n",
       "<table border=\"1\" class=\"dataframe\">\n",
       "  <thead>\n",
       "    <tr style=\"text-align: right;\">\n",
       "      <th></th>\n",
       "      <th>val</th>\n",
       "    </tr>\n",
       "    <tr>\n",
       "      <th>imgId_eId</th>\n",
       "      <th></th>\n",
       "    </tr>\n",
       "  </thead>\n",
       "  <tbody>\n",
       "    <tr>\n",
       "      <th>20057f34d_0</th>\n",
       "      <td>0.018848</td>\n",
       "    </tr>\n",
       "    <tr>\n",
       "      <th>20057f34d_1</th>\n",
       "      <td>0.030190</td>\n",
       "    </tr>\n",
       "    <tr>\n",
       "      <th>20057f34d_2</th>\n",
       "      <td>0.072792</td>\n",
       "    </tr>\n",
       "    <tr>\n",
       "      <th>20057f34d_3</th>\n",
       "      <td>-0.000673</td>\n",
       "    </tr>\n",
       "    <tr>\n",
       "      <th>20057f34d_4</th>\n",
       "      <td>0.016774</td>\n",
       "    </tr>\n",
       "  </tbody>\n",
       "</table>\n",
       "</div>"
      ],
      "text/plain": [
       "                  val\n",
       "imgId_eId            \n",
       "20057f34d_0  0.018848\n",
       "20057f34d_1  0.030190\n",
       "20057f34d_2  0.072792\n",
       "20057f34d_3 -0.000673\n",
       "20057f34d_4  0.016774"
      ]
     },
     "execution_count": 37,
     "metadata": {},
     "output_type": "execute_result"
    }
   ],
   "source": [
    "df_submission = pd.read_csv(comp_path / 'sample_submission.csv', index_col='imgId_eId')\n",
    "df_submission.head()"
   ]
  },
  {
   "cell_type": "code",
   "execution_count": 38,
   "id": "5ac0c50a",
   "metadata": {
    "execution": {
     "iopub.execute_input": "2023-05-15T08:06:46.547860Z",
     "iopub.status.busy": "2023-05-15T08:06:46.547525Z",
     "iopub.status.idle": "2023-05-15T08:06:46.562861Z",
     "shell.execute_reply": "2023-05-15T08:06:46.561864Z"
    },
    "papermill": {
     "duration": 0.039401,
     "end_time": "2023-05-15T08:06:46.565206",
     "exception": false,
     "start_time": "2023-05-15T08:06:46.525805",
     "status": "completed"
    },
    "tags": []
   },
   "outputs": [],
   "source": [
    "images = os.listdir(comp_path / 'images')\n",
    "imgIds = [i.split('.')[0] for i in images]\n",
    "\n",
    "eIds = list(range(CFG.embedding_length))\n",
    "\n",
    "imgId_eId = [\n",
    "    '_'.join(map(str, i)) for i in zip(\n",
    "        np.repeat(imgIds, CFG.embedding_length),\n",
    "        np.tile(range(CFG.embedding_length), len(imgIds))\n",
    "    )\n",
    "]\n",
    "\n",
    "assert sorted(imgId_eId) == sorted(df_submission.index)"
   ]
  },
  {
   "cell_type": "code",
   "execution_count": 39,
   "id": "9ac2431e",
   "metadata": {
    "execution": {
     "iopub.execute_input": "2023-05-15T08:06:46.608885Z",
     "iopub.status.busy": "2023-05-15T08:06:46.607292Z",
     "iopub.status.idle": "2023-05-15T08:06:48.995852Z",
     "shell.execute_reply": "2023-05-15T08:06:48.994768Z"
    },
    "papermill": {
     "duration": 2.413213,
     "end_time": "2023-05-15T08:06:48.998918",
     "exception": false,
     "start_time": "2023-05-15T08:06:46.585705",
     "status": "completed"
    },
    "tags": []
   },
   "outputs": [],
   "source": [
    "st_model = SentenceTransformer(CFG.sentence_model_path)"
   ]
  },
  {
   "cell_type": "code",
   "execution_count": 40,
   "id": "fc8c8f49",
   "metadata": {
    "execution": {
     "iopub.execute_input": "2023-05-15T08:06:49.041503Z",
     "iopub.status.busy": "2023-05-15T08:06:49.041175Z",
     "iopub.status.idle": "2023-05-15T08:06:49.046010Z",
     "shell.execute_reply": "2023-05-15T08:06:49.044942Z"
    },
    "papermill": {
     "duration": 0.028647,
     "end_time": "2023-05-15T08:06:49.048220",
     "exception": false,
     "start_time": "2023-05-15T08:06:49.019573",
     "status": "completed"
    },
    "tags": []
   },
   "outputs": [],
   "source": [
    "model_config = clip_interrogator.Config(clip_model_name=CFG.ci_clip_model_name)\n",
    "model_config.cache_path = CFG.cache_path"
   ]
  },
  {
   "cell_type": "code",
   "execution_count": 41,
   "id": "063ec1c9",
   "metadata": {
    "execution": {
     "iopub.execute_input": "2023-05-15T08:06:49.091814Z",
     "iopub.status.busy": "2023-05-15T08:06:49.090210Z",
     "iopub.status.idle": "2023-05-15T08:07:20.070572Z",
     "shell.execute_reply": "2023-05-15T08:07:20.069419Z"
    },
    "papermill": {
     "duration": 31.004913,
     "end_time": "2023-05-15T08:07:20.073577",
     "exception": false,
     "start_time": "2023-05-15T08:06:49.068664",
     "status": "completed"
    },
    "tags": []
   },
   "outputs": [
    {
     "name": "stdout",
     "output_type": "stream",
     "text": [
      "load checkpoint from /kaggle/input/clip-interrogator-models-x/model_large_caption.pth\n"
     ]
    }
   ],
   "source": [
    "\n",
    "\n",
    "configs_path = os.path.join(os.path.dirname(os.path.dirname(blip_path)), 'configs')\n",
    "med_config = os.path.join(configs_path, 'med_config.json')\n",
    "blip_model = blip.blip_decoder(\n",
    "    pretrained=CFG.blip_model_path,\n",
    "    image_size=model_config.blip_image_eval_size, \n",
    "    vit=model_config.blip_model_type, \n",
    "    med_config=med_config\n",
    ")\n",
    "blip_model.eval()\n",
    "blip_model = blip_model.to(model_config.device)\n",
    "model_config.blip_model = blip_model\n",
    "\n"
   ]
  },
  {
   "cell_type": "code",
   "execution_count": 42,
   "id": "5ac768de",
   "metadata": {
    "execution": {
     "iopub.execute_input": "2023-05-15T08:07:20.117612Z",
     "iopub.status.busy": "2023-05-15T08:07:20.116677Z",
     "iopub.status.idle": "2023-05-15T08:08:07.971117Z",
     "shell.execute_reply": "2023-05-15T08:08:07.970000Z"
    },
    "papermill": {
     "duration": 47.879787,
     "end_time": "2023-05-15T08:08:07.974553",
     "exception": false,
     "start_time": "2023-05-15T08:07:20.094766",
     "status": "completed"
    },
    "tags": []
   },
   "outputs": [],
   "source": [
    "\n",
    "clip_model = open_clip.create_model(CFG.clip_model_name, precision='fp16' if model_config.device == 'cuda' else 'fp32')\n",
    "open_clip.load_checkpoint(clip_model, CFG.clip_model_path)\n",
    "clip_model.to(model_config.device).eval()\n",
    "model_config.clip_model = clip_model\n"
   ]
  },
  {
   "cell_type": "code",
   "execution_count": 43,
   "id": "8bebe92e",
   "metadata": {
    "execution": {
     "iopub.execute_input": "2023-05-15T08:08:08.022677Z",
     "iopub.status.busy": "2023-05-15T08:08:08.022300Z",
     "iopub.status.idle": "2023-05-15T08:08:08.028958Z",
     "shell.execute_reply": "2023-05-15T08:08:08.027709Z"
    },
    "papermill": {
     "duration": 0.034163,
     "end_time": "2023-05-15T08:08:08.032254",
     "exception": false,
     "start_time": "2023-05-15T08:08:07.998091",
     "status": "completed"
    },
    "tags": []
   },
   "outputs": [],
   "source": [
    "\n",
    "clip_preprocess = open_clip.image_transform(\n",
    "    clip_model.visual.image_size,\n",
    "    is_train = False,\n",
    "    mean = getattr(clip_model.visual, 'image_mean', None),\n",
    "    std = getattr(clip_model.visual, 'image_std', None),\n",
    ")\n",
    "model_config.clip_preprocess = clip_preprocess\n",
    "\n"
   ]
  },
  {
   "cell_type": "code",
   "execution_count": 44,
   "id": "9f8b4b53",
   "metadata": {
    "execution": {
     "iopub.execute_input": "2023-05-15T08:08:08.076365Z",
     "iopub.status.busy": "2023-05-15T08:08:08.076038Z",
     "iopub.status.idle": "2023-05-15T08:08:10.292148Z",
     "shell.execute_reply": "2023-05-15T08:08:10.290898Z"
    },
    "papermill": {
     "duration": 2.240308,
     "end_time": "2023-05-15T08:08:10.294705",
     "exception": false,
     "start_time": "2023-05-15T08:08:08.054397",
     "status": "completed"
    },
    "tags": []
   },
   "outputs": [
    {
     "name": "stdout",
     "output_type": "stream",
     "text": [
      "Loaded CLIP model and data in 2.21 seconds.\n"
     ]
    }
   ],
   "source": [
    "ci = clip_interrogator.Interrogator(model_config)"
   ]
  },
  {
   "cell_type": "code",
   "execution_count": 45,
   "id": "3d8d4be3",
   "metadata": {
    "execution": {
     "iopub.execute_input": "2023-05-15T08:08:10.338591Z",
     "iopub.status.busy": "2023-05-15T08:08:10.338239Z",
     "iopub.status.idle": "2023-05-15T08:08:10.993051Z",
     "shell.execute_reply": "2023-05-15T08:08:10.991738Z"
    },
    "papermill": {
     "duration": 0.679927,
     "end_time": "2023-05-15T08:08:10.995948",
     "exception": false,
     "start_time": "2023-05-15T08:08:10.316021",
     "status": "completed"
    },
    "tags": []
   },
   "outputs": [],
   "source": [
    "\n",
    "cos = torch.nn.CosineSimilarity(dim=1)\n",
    "\n",
    "mediums_features_array = torch.stack([torch.from_numpy(t) for t in ci.mediums.embeds]).to(ci.device)\n",
    "movements_features_array = torch.stack([torch.from_numpy(t) for t in ci.movements.embeds]).to(ci.device)\n",
    "flavors_features_array = torch.stack([torch.from_numpy(t) for t in ci.flavors.embeds]).to(ci.device)\n",
    "\n"
   ]
  },
  {
   "cell_type": "code",
   "execution_count": 46,
   "id": "05ba219d",
   "metadata": {
    "execution": {
     "iopub.execute_input": "2023-05-15T08:08:11.038792Z",
     "iopub.status.busy": "2023-05-15T08:08:11.038426Z",
     "iopub.status.idle": "2023-05-15T08:08:11.048296Z",
     "shell.execute_reply": "2023-05-15T08:08:11.046925Z"
    },
    "papermill": {
     "duration": 0.034404,
     "end_time": "2023-05-15T08:08:11.051165",
     "exception": false,
     "start_time": "2023-05-15T08:08:11.016761",
     "status": "completed"
    },
    "tags": []
   },
   "outputs": [],
   "source": [
    "    \n",
    "def interrogate(image: Image) -> str:\n",
    "    caption = ci.generate_caption(image)\n",
    "    image_features = ci.image_to_features(image)\n",
    "    \n",
    "    medium = [ci.mediums.labels[i] for i in cos(image_features, mediums_features_array).topk(1).indices][0]\n",
    "    movement = [ci.movements.labels[i] for i in cos(image_features, movements_features_array).topk(1).indices][0]\n",
    "    flaves = \", \".join([ci.flavors.labels[i] for i in cos(image_features, flavors_features_array).topk(3).indices])\n",
    "\n",
    "    if caption.startswith(medium):\n",
    "        prompt = '{},{},in the style of {}'.format(caption, movement, flaves)\n",
    "    else:\n",
    "        prompt = '{},{},{},in the style of {}'.format(caption,medium, movement, flaves)\n",
    "\n",
    "    return clip_interrogator._truncate_to_fit(prompt, ci.tokenize)"
   ]
  },
  {
   "cell_type": "code",
   "execution_count": 47,
   "id": "87e624f6",
   "metadata": {
    "execution": {
     "iopub.execute_input": "2023-05-15T08:08:11.094594Z",
     "iopub.status.busy": "2023-05-15T08:08:11.093824Z",
     "iopub.status.idle": "2023-05-15T08:08:25.418703Z",
     "shell.execute_reply": "2023-05-15T08:08:25.417472Z"
    },
    "papermill": {
     "duration": 14.349631,
     "end_time": "2023-05-15T08:08:25.421759",
     "exception": false,
     "start_time": "2023-05-15T08:08:11.072128",
     "status": "completed"
    },
    "tags": []
   },
   "outputs": [],
   "source": [
    "\n",
    "prompts = []\n",
    "\n",
    "images_path = \"../input/stable-diffusion-image-to-prompts/images/\"\n",
    "for image_name in images:\n",
    "    img = Image.open(images_path + image_name).convert(\"RGB\")\n",
    "\n",
    "    generated = interrogate(img)\n",
    "    \n",
    "    prompts.append(generated)\n"
   ]
  },
  {
   "cell_type": "code",
   "execution_count": 48,
   "id": "20f5f876",
   "metadata": {
    "execution": {
     "iopub.execute_input": "2023-05-15T08:08:25.465228Z",
     "iopub.status.busy": "2023-05-15T08:08:25.464451Z",
     "iopub.status.idle": "2023-05-15T08:08:25.473616Z",
     "shell.execute_reply": "2023-05-15T08:08:25.472529Z"
    },
    "papermill": {
     "duration": 0.033066,
     "end_time": "2023-05-15T08:08:25.475976",
     "exception": false,
     "start_time": "2023-05-15T08:08:25.442910",
     "status": "completed"
    },
    "tags": []
   },
   "outputs": [],
   "source": [
    "def add_text_limiters(text: str) -> str:\n",
    "    return \" \".join([\n",
    "        word + \"\\n\" if i % 15 == 0 else word \n",
    "        for i, word in enumerate(text.split(\" \"), start=1)\n",
    "    ])\n",
    "\n",
    "def plot_image(image: np.ndarray, original_prompt: str, generated_prompt: str) -> None:\n",
    "    plt.figure(figsize=(10, 10))\n",
    "    plt.imshow(image)\n",
    "    plt.annotate(\n",
    "        \"Original prompt:\\n\" + add_text_limiters(original_prompt) + \"\\n\\nGenerated prompt:\\n\" + add_text_limiters(generated_prompt), \n",
    "        xy=(1.05, 0.5), xycoords='axes fraction', ha='left', va='center', \n",
    "        fontsize=16, rotation=0, color=\"#104a6e\"\n",
    "    )"
   ]
  },
  {
   "cell_type": "code",
   "execution_count": 49,
   "id": "da5823e8",
   "metadata": {
    "execution": {
     "iopub.execute_input": "2023-05-15T08:08:25.518182Z",
     "iopub.status.busy": "2023-05-15T08:08:25.517323Z",
     "iopub.status.idle": "2023-05-15T08:08:25.594259Z",
     "shell.execute_reply": "2023-05-15T08:08:25.593202Z"
    },
    "papermill": {
     "duration": 0.100624,
     "end_time": "2023-05-15T08:08:25.596887",
     "exception": false,
     "start_time": "2023-05-15T08:08:25.496263",
     "status": "completed"
    },
    "tags": []
   },
   "outputs": [
    {
     "data": {
      "application/vnd.jupyter.widget-view+json": {
       "model_id": "e5beb23ddcc6471dab298e378ac8d388",
       "version_major": 2,
       "version_minor": 0
      },
      "text/plain": [
       "Batches:   0%|          | 0/1 [00:00<?, ?it/s]"
      ]
     },
     "metadata": {},
     "output_type": "display_data"
    }
   ],
   "source": [
    "prompt_embeddings = st_model.encode(prompts).flatten()"
   ]
  },
  {
   "cell_type": "code",
   "execution_count": 50,
   "id": "560e794f",
   "metadata": {
    "execution": {
     "iopub.execute_input": "2023-05-15T08:08:25.640028Z",
     "iopub.status.busy": "2023-05-15T08:08:25.639029Z",
     "iopub.status.idle": "2023-05-15T08:08:25.658546Z",
     "shell.execute_reply": "2023-05-15T08:08:25.657576Z"
    },
    "papermill": {
     "duration": 0.043431,
     "end_time": "2023-05-15T08:08:25.660925",
     "exception": false,
     "start_time": "2023-05-15T08:08:25.617494",
     "status": "completed"
    },
    "tags": []
   },
   "outputs": [],
   "source": [
    "import numpy as np\n",
    "import pandas as pd\n",
    "from pathlib import Path\n",
    "from PIL import Image\n",
    "from tqdm.notebook import tqdm\n",
    "import torch\n",
    "import torch.nn as nn\n",
    "from torch.utils.data import Dataset, DataLoader\n",
    "from torchvision import transforms\n",
    "import timm\n",
    "from torchvision import transforms\n",
    "from transformers import AutoModel, AutoProcessor\n",
    "from transformers import CLIPProcessor, CLIPModel\n",
    "import sys\n",
    "from sklearn.preprocessing import normalize"
   ]
  },
  {
   "cell_type": "code",
   "execution_count": 51,
   "id": "98ccaa31",
   "metadata": {
    "execution": {
     "iopub.execute_input": "2023-05-15T08:08:25.703355Z",
     "iopub.status.busy": "2023-05-15T08:08:25.702505Z",
     "iopub.status.idle": "2023-05-15T08:08:25.709776Z",
     "shell.execute_reply": "2023-05-15T08:08:25.708590Z"
    },
    "papermill": {
     "duration": 0.030967,
     "end_time": "2023-05-15T08:08:25.712107",
     "exception": false,
     "start_time": "2023-05-15T08:08:25.681140",
     "status": "completed"
    },
    "tags": []
   },
   "outputs": [],
   "source": [
    "class CFG:\n",
    "    model_path = '/kaggle/input/clip-train-script-pt/best_model_weights0.pt'\n",
    "    #model_name = 'vit_large_patch16_384'\n",
    "    input_size = 224\n",
    "    batch_size = 64\n",
    "    model_path1 = '/kaggle/input/saved-vit-model/vit_large_patch16_384_1_64_0.0001_0.6564.pth'\n",
    "    model_name1 = 'vit_large_patch16_384'\n",
    "    input_size1 = 384\n",
    "UNFREEZE_START = 18\n",
    "device = torch.device(\"cuda\" if torch.cuda.is_available() else \"cpu\")\n",
    "torch.backends.cuda.matmul.allow_tf32 = True # allow tf32 on matmul\n",
    "torch.backends.cudnn.allow_tf32 = True # allow tf32 on cudnn\n"
   ]
  },
  {
   "cell_type": "code",
   "execution_count": 52,
   "id": "22913fbe",
   "metadata": {
    "execution": {
     "iopub.execute_input": "2023-05-15T08:08:25.753840Z",
     "iopub.status.busy": "2023-05-15T08:08:25.753503Z",
     "iopub.status.idle": "2023-05-15T08:08:25.759889Z",
     "shell.execute_reply": "2023-05-15T08:08:25.758760Z"
    },
    "papermill": {
     "duration": 0.030006,
     "end_time": "2023-05-15T08:08:25.762214",
     "exception": false,
     "start_time": "2023-05-15T08:08:25.732208",
     "status": "completed"
    },
    "tags": []
   },
   "outputs": [],
   "source": [
    "class DiffusionTestDataset(Dataset):\n",
    "    def __init__(self, images, transform):\n",
    "        self.images = images\n",
    "        self.transform = transform\n",
    "    \n",
    "    def __len__(self):\n",
    "        return len(self.images)\n",
    "\n",
    "    def __getitem__(self, idx):\n",
    "        image = Image.open(self.images[idx])\n",
    "        image = self.transform(image)\n",
    "        return image"
   ]
  },
  {
   "cell_type": "code",
   "execution_count": 53,
   "id": "d4c696d8",
   "metadata": {
    "execution": {
     "iopub.execute_input": "2023-05-15T08:08:25.805118Z",
     "iopub.status.busy": "2023-05-15T08:08:25.804149Z",
     "iopub.status.idle": "2023-05-15T08:08:25.814606Z",
     "shell.execute_reply": "2023-05-15T08:08:25.813665Z"
    },
    "papermill": {
     "duration": 0.034241,
     "end_time": "2023-05-15T08:08:25.816826",
     "exception": false,
     "start_time": "2023-05-15T08:08:25.782585",
     "status": "completed"
    },
    "tags": []
   },
   "outputs": [],
   "source": [
    "class Net(nn.Module):\n",
    "    def __init__(self):\n",
    "        super(Net, self).__init__()\n",
    "        clip = AutoModel.from_pretrained('/kaggle/input/clip-vit-large-patch14')\n",
    "        self.vision = clip.vision_model\n",
    "        self.fc = nn.Linear(1024, 384)\n",
    "\n",
    "    def forward(self, x):\n",
    "        out = self.vision(x)['pooler_output']\n",
    "        return self.fc(out)\n",
    "\n",
    "\n",
    "def load_pretrained_model():\n",
    "    model = Net()\n",
    "\n",
    "    trainable_model_weights = False\n",
    "    for name, child in model.named_children():\n",
    "        if name == 'vision':\n",
    "            for pn, p in child.named_parameters():\n",
    "                if str(UNFREEZE_START) in pn:\n",
    "                    \"\"\"start unfreezing layer , the weights are trainable\"\"\"\n",
    "                    trainable_model_weights = True\n",
    "                p.requires_grad = trainable_model_weights\n",
    "                if p.requires_grad:\n",
    "                    print(f\"{pn} is set to be trainable.\")\n",
    "\n",
    "    return model\n",
    "\n"
   ]
  },
  {
   "cell_type": "code",
   "execution_count": 54,
   "id": "410ae1d8",
   "metadata": {
    "execution": {
     "iopub.execute_input": "2023-05-15T08:08:25.859299Z",
     "iopub.status.busy": "2023-05-15T08:08:25.858448Z",
     "iopub.status.idle": "2023-05-15T08:08:25.871460Z",
     "shell.execute_reply": "2023-05-15T08:08:25.870512Z"
    },
    "papermill": {
     "duration": 0.036767,
     "end_time": "2023-05-15T08:08:25.873891",
     "exception": false,
     "start_time": "2023-05-15T08:08:25.837124",
     "status": "completed"
    },
    "tags": []
   },
   "outputs": [],
   "source": [
    "def predict(\n",
    "    images,\n",
    "    model_path,\n",
    "    input_size,\n",
    "    batch_size\n",
    "):\n",
    "    device = torch.device('cuda' if torch.cuda.is_available() else 'cpu')\n",
    "    transform = transforms.Compose([\n",
    "        transforms.Resize(input_size),\n",
    "        transforms.RandomHorizontalFlip(p=0.5),\n",
    "        #transforms.RandomRotation(degrees=10),\n",
    "\n",
    "        #transforms.RandomVerticalFlip(p=0.5),\n",
    "        transforms.ToTensor(),\n",
    "        transforms.Normalize([0.485, 0.456, 0.406], [0.229, 0.224, 0.225]),\n",
    "    ])\n",
    "    dataset = DiffusionTestDataset(images, transform)\n",
    "    dataloader = DataLoader(\n",
    "        dataset=dataset,\n",
    "        shuffle=False,\n",
    "        batch_size=batch_size,\n",
    "        pin_memory=True,\n",
    "        num_workers=2,\n",
    "        drop_last=False\n",
    "    )\n",
    "\n",
    "    model = load_pretrained_model()\n",
    "    state_dict = torch.load(model_path)\n",
    "    model.load_state_dict(state_dict)\n",
    "    model.to(device)\n",
    "    model.eval()\n",
    "    \n",
    "    tta_preds = None\n",
    "    for _ in range(2):\n",
    "        preds = []\n",
    "        for X in tqdm(dataloader, leave=False):\n",
    "            X = X.to(device)\n",
    "\n",
    "            with torch.no_grad():\n",
    "                X_out = model(X).cpu().numpy()\n",
    "                # L2 normalize -- Start\n",
    "                X_out = X_out / ( np.abs(X_out).max(axis=-1, keepdims=True) + 0.0000001)  # To avoid to overflow at normalize()\n",
    "                X_out = normalize( X_out )\n",
    "                # L2 normalize -- End\n",
    "                preds.append(X_out)\n",
    "                \n",
    "        if tta_preds is None:\n",
    "            tta_preds = np.vstack(preds).flatten()\n",
    "        else:\n",
    "            tta_preds += np.vstack(preds).flatten()\n",
    "    \n",
    "    return tta_preds / 2"
   ]
  },
  {
   "cell_type": "code",
   "execution_count": 55,
   "id": "9b7e3e5b",
   "metadata": {
    "execution": {
     "iopub.execute_input": "2023-05-15T08:08:25.916191Z",
     "iopub.status.busy": "2023-05-15T08:08:25.915901Z",
     "iopub.status.idle": "2023-05-15T08:09:00.607562Z",
     "shell.execute_reply": "2023-05-15T08:09:00.606254Z"
    },
    "papermill": {
     "duration": 34.715861,
     "end_time": "2023-05-15T08:09:00.610339",
     "exception": false,
     "start_time": "2023-05-15T08:08:25.894478",
     "status": "completed"
    },
    "tags": []
   },
   "outputs": [
    {
     "name": "stdout",
     "output_type": "stream",
     "text": [
      "encoder.layers.18.self_attn.k_proj.weight is set to be trainable.\n",
      "encoder.layers.18.self_attn.k_proj.bias is set to be trainable.\n",
      "encoder.layers.18.self_attn.v_proj.weight is set to be trainable.\n",
      "encoder.layers.18.self_attn.v_proj.bias is set to be trainable.\n",
      "encoder.layers.18.self_attn.q_proj.weight is set to be trainable.\n",
      "encoder.layers.18.self_attn.q_proj.bias is set to be trainable.\n",
      "encoder.layers.18.self_attn.out_proj.weight is set to be trainable.\n",
      "encoder.layers.18.self_attn.out_proj.bias is set to be trainable.\n",
      "encoder.layers.18.layer_norm1.weight is set to be trainable.\n",
      "encoder.layers.18.layer_norm1.bias is set to be trainable.\n",
      "encoder.layers.18.mlp.fc1.weight is set to be trainable.\n",
      "encoder.layers.18.mlp.fc1.bias is set to be trainable.\n",
      "encoder.layers.18.mlp.fc2.weight is set to be trainable.\n",
      "encoder.layers.18.mlp.fc2.bias is set to be trainable.\n",
      "encoder.layers.18.layer_norm2.weight is set to be trainable.\n",
      "encoder.layers.18.layer_norm2.bias is set to be trainable.\n",
      "encoder.layers.19.self_attn.k_proj.weight is set to be trainable.\n",
      "encoder.layers.19.self_attn.k_proj.bias is set to be trainable.\n",
      "encoder.layers.19.self_attn.v_proj.weight is set to be trainable.\n",
      "encoder.layers.19.self_attn.v_proj.bias is set to be trainable.\n",
      "encoder.layers.19.self_attn.q_proj.weight is set to be trainable.\n",
      "encoder.layers.19.self_attn.q_proj.bias is set to be trainable.\n",
      "encoder.layers.19.self_attn.out_proj.weight is set to be trainable.\n",
      "encoder.layers.19.self_attn.out_proj.bias is set to be trainable.\n",
      "encoder.layers.19.layer_norm1.weight is set to be trainable.\n",
      "encoder.layers.19.layer_norm1.bias is set to be trainable.\n",
      "encoder.layers.19.mlp.fc1.weight is set to be trainable.\n",
      "encoder.layers.19.mlp.fc1.bias is set to be trainable.\n",
      "encoder.layers.19.mlp.fc2.weight is set to be trainable.\n",
      "encoder.layers.19.mlp.fc2.bias is set to be trainable.\n",
      "encoder.layers.19.layer_norm2.weight is set to be trainable.\n",
      "encoder.layers.19.layer_norm2.bias is set to be trainable.\n",
      "encoder.layers.20.self_attn.k_proj.weight is set to be trainable.\n",
      "encoder.layers.20.self_attn.k_proj.bias is set to be trainable.\n",
      "encoder.layers.20.self_attn.v_proj.weight is set to be trainable.\n",
      "encoder.layers.20.self_attn.v_proj.bias is set to be trainable.\n",
      "encoder.layers.20.self_attn.q_proj.weight is set to be trainable.\n",
      "encoder.layers.20.self_attn.q_proj.bias is set to be trainable.\n",
      "encoder.layers.20.self_attn.out_proj.weight is set to be trainable.\n",
      "encoder.layers.20.self_attn.out_proj.bias is set to be trainable.\n",
      "encoder.layers.20.layer_norm1.weight is set to be trainable.\n",
      "encoder.layers.20.layer_norm1.bias is set to be trainable.\n",
      "encoder.layers.20.mlp.fc1.weight is set to be trainable.\n",
      "encoder.layers.20.mlp.fc1.bias is set to be trainable.\n",
      "encoder.layers.20.mlp.fc2.weight is set to be trainable.\n",
      "encoder.layers.20.mlp.fc2.bias is set to be trainable.\n",
      "encoder.layers.20.layer_norm2.weight is set to be trainable.\n",
      "encoder.layers.20.layer_norm2.bias is set to be trainable.\n",
      "encoder.layers.21.self_attn.k_proj.weight is set to be trainable.\n",
      "encoder.layers.21.self_attn.k_proj.bias is set to be trainable.\n",
      "encoder.layers.21.self_attn.v_proj.weight is set to be trainable.\n",
      "encoder.layers.21.self_attn.v_proj.bias is set to be trainable.\n",
      "encoder.layers.21.self_attn.q_proj.weight is set to be trainable.\n",
      "encoder.layers.21.self_attn.q_proj.bias is set to be trainable.\n",
      "encoder.layers.21.self_attn.out_proj.weight is set to be trainable.\n",
      "encoder.layers.21.self_attn.out_proj.bias is set to be trainable.\n",
      "encoder.layers.21.layer_norm1.weight is set to be trainable.\n",
      "encoder.layers.21.layer_norm1.bias is set to be trainable.\n",
      "encoder.layers.21.mlp.fc1.weight is set to be trainable.\n",
      "encoder.layers.21.mlp.fc1.bias is set to be trainable.\n",
      "encoder.layers.21.mlp.fc2.weight is set to be trainable.\n",
      "encoder.layers.21.mlp.fc2.bias is set to be trainable.\n",
      "encoder.layers.21.layer_norm2.weight is set to be trainable.\n",
      "encoder.layers.21.layer_norm2.bias is set to be trainable.\n",
      "encoder.layers.22.self_attn.k_proj.weight is set to be trainable.\n",
      "encoder.layers.22.self_attn.k_proj.bias is set to be trainable.\n",
      "encoder.layers.22.self_attn.v_proj.weight is set to be trainable.\n",
      "encoder.layers.22.self_attn.v_proj.bias is set to be trainable.\n",
      "encoder.layers.22.self_attn.q_proj.weight is set to be trainable.\n",
      "encoder.layers.22.self_attn.q_proj.bias is set to be trainable.\n",
      "encoder.layers.22.self_attn.out_proj.weight is set to be trainable.\n",
      "encoder.layers.22.self_attn.out_proj.bias is set to be trainable.\n",
      "encoder.layers.22.layer_norm1.weight is set to be trainable.\n",
      "encoder.layers.22.layer_norm1.bias is set to be trainable.\n",
      "encoder.layers.22.mlp.fc1.weight is set to be trainable.\n",
      "encoder.layers.22.mlp.fc1.bias is set to be trainable.\n",
      "encoder.layers.22.mlp.fc2.weight is set to be trainable.\n",
      "encoder.layers.22.mlp.fc2.bias is set to be trainable.\n",
      "encoder.layers.22.layer_norm2.weight is set to be trainable.\n",
      "encoder.layers.22.layer_norm2.bias is set to be trainable.\n",
      "encoder.layers.23.self_attn.k_proj.weight is set to be trainable.\n",
      "encoder.layers.23.self_attn.k_proj.bias is set to be trainable.\n",
      "encoder.layers.23.self_attn.v_proj.weight is set to be trainable.\n",
      "encoder.layers.23.self_attn.v_proj.bias is set to be trainable.\n",
      "encoder.layers.23.self_attn.q_proj.weight is set to be trainable.\n",
      "encoder.layers.23.self_attn.q_proj.bias is set to be trainable.\n",
      "encoder.layers.23.self_attn.out_proj.weight is set to be trainable.\n",
      "encoder.layers.23.self_attn.out_proj.bias is set to be trainable.\n",
      "encoder.layers.23.layer_norm1.weight is set to be trainable.\n",
      "encoder.layers.23.layer_norm1.bias is set to be trainable.\n",
      "encoder.layers.23.mlp.fc1.weight is set to be trainable.\n",
      "encoder.layers.23.mlp.fc1.bias is set to be trainable.\n",
      "encoder.layers.23.mlp.fc2.weight is set to be trainable.\n",
      "encoder.layers.23.mlp.fc2.bias is set to be trainable.\n",
      "encoder.layers.23.layer_norm2.weight is set to be trainable.\n",
      "encoder.layers.23.layer_norm2.bias is set to be trainable.\n",
      "post_layernorm.weight is set to be trainable.\n",
      "post_layernorm.bias is set to be trainable.\n"
     ]
    },
    {
     "data": {
      "application/vnd.jupyter.widget-view+json": {
       "model_id": "e762a354f549413cbe2afd21a2df1614",
       "version_major": 2,
       "version_minor": 0
      },
      "text/plain": [
       "  0%|          | 0/1 [00:00<?, ?it/s]"
      ]
     },
     "metadata": {},
     "output_type": "display_data"
    },
    {
     "data": {
      "application/vnd.jupyter.widget-view+json": {
       "model_id": "b054750d58584992a54847a19eed5814",
       "version_major": 2,
       "version_minor": 0
      },
      "text/plain": [
       "  0%|          | 0/1 [00:00<?, ?it/s]"
      ]
     },
     "metadata": {},
     "output_type": "display_data"
    }
   ],
   "source": [
    "images = list(Path('/kaggle/input/stable-diffusion-image-to-prompts/images').glob('*.png'))\n",
    "embeddings2 = predict(images, CFG.model_path, CFG.input_size, CFG.batch_size)"
   ]
  },
  {
   "cell_type": "code",
   "execution_count": 56,
   "id": "25a0dc30",
   "metadata": {
    "execution": {
     "iopub.execute_input": "2023-05-15T08:09:00.654856Z",
     "iopub.status.busy": "2023-05-15T08:09:00.654502Z",
     "iopub.status.idle": "2023-05-15T08:09:00.667913Z",
     "shell.execute_reply": "2023-05-15T08:09:00.666783Z"
    },
    "papermill": {
     "duration": 0.037958,
     "end_time": "2023-05-15T08:09:00.670157",
     "exception": false,
     "start_time": "2023-05-15T08:09:00.632199",
     "status": "completed"
    },
    "tags": []
   },
   "outputs": [],
   "source": [
    "def predict(\n",
    "    images,\n",
    "    model_path,\n",
    "    model_name,\n",
    "    input_size,\n",
    "    batch_size\n",
    "):\n",
    "    device = torch.device('cuda' if torch.cuda.is_available() else 'cpu')\n",
    "    transform = transforms.Compose([\n",
    "        transforms.Resize(input_size),\n",
    "        transforms.RandomHorizontalFlip(p=0.5),\n",
    "#         transforms.RandomRotation(degrees=10),\n",
    "\n",
    "        # transforms.RandomVerticalFlip(p=0.5),\n",
    "        transforms.ToTensor(),\n",
    "        transforms.Normalize([0.485, 0.456, 0.406], [0.229, 0.224, 0.225]),\n",
    "    ])\n",
    "    dataset = DiffusionTestDataset(images, transform)\n",
    "    dataloader = DataLoader(\n",
    "        dataset=dataset,\n",
    "        shuffle=False,\n",
    "        batch_size=batch_size,\n",
    "        pin_memory=True,\n",
    "        num_workers=2,\n",
    "        drop_last=False\n",
    "    )\n",
    "\n",
    "    model = timm.create_model(\n",
    "        model_name,\n",
    "        pretrained=False,\n",
    "        num_classes=384\n",
    "    )\n",
    "    state_dict = torch.load(model_path)\n",
    "    model.load_state_dict(state_dict)\n",
    "    model.to(device)\n",
    "    model.eval()\n",
    "    \n",
    "    tta_preds = None\n",
    "    for _ in range(2):\n",
    "        preds = []\n",
    "        for X in tqdm(dataloader, leave=False):\n",
    "            X = X.to(device)\n",
    "\n",
    "            with torch.no_grad():\n",
    "                X_out = model(X).cpu().numpy()\n",
    "                # L2 normalize -- Start\n",
    "                X_out = X_out / ( np.abs(X_out).max(axis=-1, keepdims=True) + 0.0000001)  # To avoid to overflow at normalize()\n",
    "                X_out = normalize( X_out )\n",
    "                # L2 normalize -- End\n",
    "                preds.append(X_out)\n",
    "                \n",
    "        if tta_preds is None:\n",
    "            tta_preds = np.vstack(preds).flatten()\n",
    "        else:\n",
    "            tta_preds += np.vstack(preds).flatten()\n",
    "            \n",
    "    return tta_preds / 2"
   ]
  },
  {
   "cell_type": "code",
   "execution_count": 57,
   "id": "e4220035",
   "metadata": {
    "execution": {
     "iopub.execute_input": "2023-05-15T08:09:00.715088Z",
     "iopub.status.busy": "2023-05-15T08:09:00.714202Z",
     "iopub.status.idle": "2023-05-15T08:09:00.719692Z",
     "shell.execute_reply": "2023-05-15T08:09:00.718766Z"
    },
    "papermill": {
     "duration": 0.030306,
     "end_time": "2023-05-15T08:09:00.722064",
     "exception": false,
     "start_time": "2023-05-15T08:09:00.691758",
     "status": "completed"
    },
    "tags": []
   },
   "outputs": [],
   "source": [
    "#embeddings3 = predict(images, CFG.model_path1, CFG.model_name1, CFG.input_size1, CFG.batch_size)"
   ]
  },
  {
   "cell_type": "code",
   "execution_count": 58,
   "id": "a1af8ac9",
   "metadata": {
    "execution": {
     "iopub.execute_input": "2023-05-15T08:09:00.768559Z",
     "iopub.status.busy": "2023-05-15T08:09:00.768268Z",
     "iopub.status.idle": "2023-05-15T08:09:00.775028Z",
     "shell.execute_reply": "2023-05-15T08:09:00.774061Z"
    },
    "papermill": {
     "duration": 0.034406,
     "end_time": "2023-05-15T08:09:00.777424",
     "exception": false,
     "start_time": "2023-05-15T08:09:00.743018",
     "status": "completed"
    },
    "tags": []
   },
   "outputs": [],
   "source": [
    "test_prompt_embeddings = test_prompt_embeddings*0.42+prompt_embeddings*0.15+embeddings2*0.43"
   ]
  },
  {
   "cell_type": "code",
   "execution_count": 59,
   "id": "4c279f21",
   "metadata": {
    "execution": {
     "iopub.execute_input": "2023-05-15T08:09:00.821960Z",
     "iopub.status.busy": "2023-05-15T08:09:00.820490Z",
     "iopub.status.idle": "2023-05-15T08:09:00.825460Z",
     "shell.execute_reply": "2023-05-15T08:09:00.824379Z"
    },
    "papermill": {
     "duration": 0.029405,
     "end_time": "2023-05-15T08:09:00.827890",
     "exception": false,
     "start_time": "2023-05-15T08:09:00.798485",
     "status": "completed"
    },
    "tags": []
   },
   "outputs": [],
   "source": [
    "#test_prompt_embeddings = test_prompt_embeddings*0.4+embeddings3*0.25+embeddings2*0.35"
   ]
  },
  {
   "cell_type": "code",
   "execution_count": 60,
   "id": "a46deca2",
   "metadata": {
    "execution": {
     "iopub.execute_input": "2023-05-15T08:09:00.871272Z",
     "iopub.status.busy": "2023-05-15T08:09:00.870979Z",
     "iopub.status.idle": "2023-05-15T08:09:00.908058Z",
     "shell.execute_reply": "2023-05-15T08:09:00.907079Z"
    },
    "papermill": {
     "duration": 0.061563,
     "end_time": "2023-05-15T08:09:00.910381",
     "exception": false,
     "start_time": "2023-05-15T08:09:00.848818",
     "status": "completed"
    },
    "tags": []
   },
   "outputs": [],
   "source": [
    "imgIds = [i.stem for i in test_images]\n",
    "EMBEDDING_LENGTH = 384\n",
    "imgId_eId = [\n",
    "    '_'.join(map(str, i)) for i in zip(\n",
    "        np.repeat(imgIds, EMBEDDING_LENGTH),\n",
    "        np.tile(range(EMBEDDING_LENGTH), len(imgIds)))]\n",
    "\n",
    "submission = pd.DataFrame(\n",
    "    index=imgId_eId,\n",
    "    data=test_prompt_embeddings,\n",
    "    columns=['val']\n",
    ").rename_axis('imgId_eId')\n",
    "submission.to_csv('submission.csv')"
   ]
  }
 ],
 "metadata": {
  "kernelspec": {
   "display_name": "Python 3",
   "language": "python",
   "name": "python3"
  },
  "language_info": {
   "codemirror_mode": {
    "name": "ipython",
    "version": 3
   },
   "file_extension": ".py",
   "mimetype": "text/x-python",
   "name": "python",
   "nbconvert_exporter": "python",
   "pygments_lexer": "ipython3",
   "version": "3.7.12"
  },
  "papermill": {
   "default_parameters": {},
   "duration": 254.087586,
   "end_time": "2023-05-15T08:09:04.690751",
   "environment_variables": {},
   "exception": null,
   "input_path": "__notebook__.ipynb",
   "output_path": "__notebook__.ipynb",
   "parameters": {},
   "start_time": "2023-05-15T08:04:50.603165",
   "version": "2.4.0"
  },
  "widgets": {
   "application/vnd.jupyter.widget-state+json": {
    "state": {
     "0242424eed6a46b9995fb7f9f5f8a4b2": {
      "model_module": "@jupyter-widgets/controls",
      "model_module_version": "1.5.0",
      "model_name": "FloatProgressModel",
      "state": {
       "_dom_classes": [],
       "_model_module": "@jupyter-widgets/controls",
       "_model_module_version": "1.5.0",
       "_model_name": "FloatProgressModel",
       "_view_count": null,
       "_view_module": "@jupyter-widgets/controls",
       "_view_module_version": "1.5.0",
       "_view_name": "ProgressView",
       "bar_style": "success",
       "description": "",
       "description_tooltip": null,
       "layout": "IPY_MODEL_7f8b4c4d611e4eba90ff4f5ab33d56e2",
       "max": 5.0,
       "min": 0.0,
       "orientation": "horizontal",
       "style": "IPY_MODEL_c5009ce93582450fac45eba04a1e0cd8",
       "value": 5.0
      }
     },
     "026f39d000b2420c8e9a6c17f98c8c8c": {
      "model_module": "@jupyter-widgets/base",
      "model_module_version": "1.2.0",
      "model_name": "LayoutModel",
      "state": {
       "_model_module": "@jupyter-widgets/base",
       "_model_module_version": "1.2.0",
       "_model_name": "LayoutModel",
       "_view_count": null,
       "_view_module": "@jupyter-widgets/base",
       "_view_module_version": "1.2.0",
       "_view_name": "LayoutView",
       "align_content": null,
       "align_items": null,
       "align_self": null,
       "border": null,
       "bottom": null,
       "display": null,
       "flex": null,
       "flex_flow": null,
       "grid_area": null,
       "grid_auto_columns": null,
       "grid_auto_flow": null,
       "grid_auto_rows": null,
       "grid_column": null,
       "grid_gap": null,
       "grid_row": null,
       "grid_template_areas": null,
       "grid_template_columns": null,
       "grid_template_rows": null,
       "height": null,
       "justify_content": null,
       "justify_items": null,
       "left": null,
       "margin": null,
       "max_height": null,
       "max_width": null,
       "min_height": null,
       "min_width": null,
       "object_fit": null,
       "object_position": null,
       "order": null,
       "overflow": null,
       "overflow_x": null,
       "overflow_y": null,
       "padding": null,
       "right": null,
       "top": null,
       "visibility": null,
       "width": null
      }
     },
     "0361fad04a8c4bb9a42e49f1f723049a": {
      "model_module": "@jupyter-widgets/controls",
      "model_module_version": "1.5.0",
      "model_name": "ProgressStyleModel",
      "state": {
       "_model_module": "@jupyter-widgets/controls",
       "_model_module_version": "1.5.0",
       "_model_name": "ProgressStyleModel",
       "_view_count": null,
       "_view_module": "@jupyter-widgets/base",
       "_view_module_version": "1.2.0",
       "_view_name": "StyleView",
       "bar_color": null,
       "description_width": ""
      }
     },
     "0382e3f1d04249519c916fdab223083f": {
      "model_module": "@jupyter-widgets/controls",
      "model_module_version": "1.5.0",
      "model_name": "HTMLModel",
      "state": {
       "_dom_classes": [],
       "_model_module": "@jupyter-widgets/controls",
       "_model_module_version": "1.5.0",
       "_model_name": "HTMLModel",
       "_view_count": null,
       "_view_module": "@jupyter-widgets/controls",
       "_view_module_version": "1.5.0",
       "_view_name": "HTMLView",
       "description": "",
       "description_tooltip": null,
       "layout": "IPY_MODEL_89353c06457a4ab4afa022d258c7eaa5",
       "placeholder": "​",
       "style": "IPY_MODEL_5c5548a20bdf46728530e49882a4d789",
       "value": "100%"
      }
     },
     "041c2039287048fd91b8dc241f8d84d7": {
      "model_module": "@jupyter-widgets/base",
      "model_module_version": "1.2.0",
      "model_name": "LayoutModel",
      "state": {
       "_model_module": "@jupyter-widgets/base",
       "_model_module_version": "1.2.0",
       "_model_name": "LayoutModel",
       "_view_count": null,
       "_view_module": "@jupyter-widgets/base",
       "_view_module_version": "1.2.0",
       "_view_name": "LayoutView",
       "align_content": null,
       "align_items": null,
       "align_self": null,
       "border": null,
       "bottom": null,
       "display": null,
       "flex": null,
       "flex_flow": null,
       "grid_area": null,
       "grid_auto_columns": null,
       "grid_auto_flow": null,
       "grid_auto_rows": null,
       "grid_column": null,
       "grid_gap": null,
       "grid_row": null,
       "grid_template_areas": null,
       "grid_template_columns": null,
       "grid_template_rows": null,
       "height": null,
       "justify_content": null,
       "justify_items": null,
       "left": null,
       "margin": null,
       "max_height": null,
       "max_width": null,
       "min_height": null,
       "min_width": null,
       "object_fit": null,
       "object_position": null,
       "order": null,
       "overflow": null,
       "overflow_x": null,
       "overflow_y": null,
       "padding": null,
       "right": null,
       "top": null,
       "visibility": null,
       "width": null
      }
     },
     "06d927cff7394ac190066c8faef52e6b": {
      "model_module": "@jupyter-widgets/base",
      "model_module_version": "1.2.0",
      "model_name": "LayoutModel",
      "state": {
       "_model_module": "@jupyter-widgets/base",
       "_model_module_version": "1.2.0",
       "_model_name": "LayoutModel",
       "_view_count": null,
       "_view_module": "@jupyter-widgets/base",
       "_view_module_version": "1.2.0",
       "_view_name": "LayoutView",
       "align_content": null,
       "align_items": null,
       "align_self": null,
       "border": null,
       "bottom": null,
       "display": null,
       "flex": null,
       "flex_flow": null,
       "grid_area": null,
       "grid_auto_columns": null,
       "grid_auto_flow": null,
       "grid_auto_rows": null,
       "grid_column": null,
       "grid_gap": null,
       "grid_row": null,
       "grid_template_areas": null,
       "grid_template_columns": null,
       "grid_template_rows": null,
       "height": null,
       "justify_content": null,
       "justify_items": null,
       "left": null,
       "margin": null,
       "max_height": null,
       "max_width": null,
       "min_height": null,
       "min_width": null,
       "object_fit": null,
       "object_position": null,
       "order": null,
       "overflow": null,
       "overflow_x": null,
       "overflow_y": null,
       "padding": null,
       "right": null,
       "top": null,
       "visibility": null,
       "width": null
      }
     },
     "09d7817b197d440f9acbb3a12475435a": {
      "model_module": "@jupyter-widgets/base",
      "model_module_version": "1.2.0",
      "model_name": "LayoutModel",
      "state": {
       "_model_module": "@jupyter-widgets/base",
       "_model_module_version": "1.2.0",
       "_model_name": "LayoutModel",
       "_view_count": null,
       "_view_module": "@jupyter-widgets/base",
       "_view_module_version": "1.2.0",
       "_view_name": "LayoutView",
       "align_content": null,
       "align_items": null,
       "align_self": null,
       "border": null,
       "bottom": null,
       "display": null,
       "flex": null,
       "flex_flow": null,
       "grid_area": null,
       "grid_auto_columns": null,
       "grid_auto_flow": null,
       "grid_auto_rows": null,
       "grid_column": null,
       "grid_gap": null,
       "grid_row": null,
       "grid_template_areas": null,
       "grid_template_columns": null,
       "grid_template_rows": null,
       "height": null,
       "justify_content": null,
       "justify_items": null,
       "left": null,
       "margin": null,
       "max_height": null,
       "max_width": null,
       "min_height": null,
       "min_width": null,
       "object_fit": null,
       "object_position": null,
       "order": null,
       "overflow": null,
       "overflow_x": null,
       "overflow_y": null,
       "padding": null,
       "right": null,
       "top": null,
       "visibility": null,
       "width": null
      }
     },
     "0cb79e6d3ebe4f8fb4cd0a364d65a379": {
      "model_module": "@jupyter-widgets/controls",
      "model_module_version": "1.5.0",
      "model_name": "ProgressStyleModel",
      "state": {
       "_model_module": "@jupyter-widgets/controls",
       "_model_module_version": "1.5.0",
       "_model_name": "ProgressStyleModel",
       "_view_count": null,
       "_view_module": "@jupyter-widgets/base",
       "_view_module_version": "1.2.0",
       "_view_name": "StyleView",
       "bar_color": null,
       "description_width": ""
      }
     },
     "0f123f72dddd41abae1c9a68e0dffb58": {
      "model_module": "@jupyter-widgets/controls",
      "model_module_version": "1.5.0",
      "model_name": "ProgressStyleModel",
      "state": {
       "_model_module": "@jupyter-widgets/controls",
       "_model_module_version": "1.5.0",
       "_model_name": "ProgressStyleModel",
       "_view_count": null,
       "_view_module": "@jupyter-widgets/base",
       "_view_module_version": "1.2.0",
       "_view_name": "StyleView",
       "bar_color": null,
       "description_width": ""
      }
     },
     "16deb19ed326410ea7008f6d6757a75c": {
      "model_module": "@jupyter-widgets/controls",
      "model_module_version": "1.5.0",
      "model_name": "HTMLModel",
      "state": {
       "_dom_classes": [],
       "_model_module": "@jupyter-widgets/controls",
       "_model_module_version": "1.5.0",
       "_model_name": "HTMLModel",
       "_view_count": null,
       "_view_module": "@jupyter-widgets/controls",
       "_view_module_version": "1.5.0",
       "_view_name": "HTMLView",
       "description": "",
       "description_tooltip": null,
       "layout": "IPY_MODEL_bc46e7ffe31b467a92ed8a6ff540634d",
       "placeholder": "​",
       "style": "IPY_MODEL_28eab3f2aec84677a126cf0f19a9265c",
       "value": " 1/1 [00:00&lt;00:00,  1.66it/s]"
      }
     },
     "26ab3ffdd500488fb2a916fc33951ac8": {
      "model_module": "@jupyter-widgets/controls",
      "model_module_version": "1.5.0",
      "model_name": "HTMLModel",
      "state": {
       "_dom_classes": [],
       "_model_module": "@jupyter-widgets/controls",
       "_model_module_version": "1.5.0",
       "_model_name": "HTMLModel",
       "_view_count": null,
       "_view_module": "@jupyter-widgets/controls",
       "_view_module_version": "1.5.0",
       "_view_name": "HTMLView",
       "description": "",
       "description_tooltip": null,
       "layout": "IPY_MODEL_e8bf104b1da547269fdb64a0fa2f5fa6",
       "placeholder": "​",
       "style": "IPY_MODEL_baa908312b8d467a82f0c7a44b6e9422",
       "value": " 5/5 [00:03&lt;00:00,  1.64it/s]"
      }
     },
     "28eab3f2aec84677a126cf0f19a9265c": {
      "model_module": "@jupyter-widgets/controls",
      "model_module_version": "1.5.0",
      "model_name": "DescriptionStyleModel",
      "state": {
       "_model_module": "@jupyter-widgets/controls",
       "_model_module_version": "1.5.0",
       "_model_name": "DescriptionStyleModel",
       "_view_count": null,
       "_view_module": "@jupyter-widgets/base",
       "_view_module_version": "1.2.0",
       "_view_name": "StyleView",
       "description_width": ""
      }
     },
     "313771e67d7849b792ba4c4a9ed7c22a": {
      "model_module": "@jupyter-widgets/controls",
      "model_module_version": "1.5.0",
      "model_name": "HTMLModel",
      "state": {
       "_dom_classes": [],
       "_model_module": "@jupyter-widgets/controls",
       "_model_module_version": "1.5.0",
       "_model_name": "HTMLModel",
       "_view_count": null,
       "_view_module": "@jupyter-widgets/controls",
       "_view_module_version": "1.5.0",
       "_view_name": "HTMLView",
       "description": "",
       "description_tooltip": null,
       "layout": "IPY_MODEL_50b19b4e866c46399351925184ebdf49",
       "placeholder": "​",
       "style": "IPY_MODEL_9e31c4b37abe48bda1c348c8bee1aeb2",
       "value": "100%"
      }
     },
     "4a7409d25fef4fb1882eb9a0b05fd216": {
      "model_module": "@jupyter-widgets/base",
      "model_module_version": "1.2.0",
      "model_name": "LayoutModel",
      "state": {
       "_model_module": "@jupyter-widgets/base",
       "_model_module_version": "1.2.0",
       "_model_name": "LayoutModel",
       "_view_count": null,
       "_view_module": "@jupyter-widgets/base",
       "_view_module_version": "1.2.0",
       "_view_name": "LayoutView",
       "align_content": null,
       "align_items": null,
       "align_self": null,
       "border": null,
       "bottom": null,
       "display": null,
       "flex": null,
       "flex_flow": null,
       "grid_area": null,
       "grid_auto_columns": null,
       "grid_auto_flow": null,
       "grid_auto_rows": null,
       "grid_column": null,
       "grid_gap": null,
       "grid_row": null,
       "grid_template_areas": null,
       "grid_template_columns": null,
       "grid_template_rows": null,
       "height": null,
       "justify_content": null,
       "justify_items": null,
       "left": null,
       "margin": null,
       "max_height": null,
       "max_width": null,
       "min_height": null,
       "min_width": null,
       "object_fit": null,
       "object_position": null,
       "order": null,
       "overflow": null,
       "overflow_x": null,
       "overflow_y": null,
       "padding": null,
       "right": null,
       "top": null,
       "visibility": null,
       "width": null
      }
     },
     "4c14b36879e34f20807dc57c808b08d7": {
      "model_module": "@jupyter-widgets/base",
      "model_module_version": "1.2.0",
      "model_name": "LayoutModel",
      "state": {
       "_model_module": "@jupyter-widgets/base",
       "_model_module_version": "1.2.0",
       "_model_name": "LayoutModel",
       "_view_count": null,
       "_view_module": "@jupyter-widgets/base",
       "_view_module_version": "1.2.0",
       "_view_name": "LayoutView",
       "align_content": null,
       "align_items": null,
       "align_self": null,
       "border": null,
       "bottom": null,
       "display": null,
       "flex": null,
       "flex_flow": null,
       "grid_area": null,
       "grid_auto_columns": null,
       "grid_auto_flow": null,
       "grid_auto_rows": null,
       "grid_column": null,
       "grid_gap": null,
       "grid_row": null,
       "grid_template_areas": null,
       "grid_template_columns": null,
       "grid_template_rows": null,
       "height": null,
       "justify_content": null,
       "justify_items": null,
       "left": null,
       "margin": null,
       "max_height": null,
       "max_width": null,
       "min_height": null,
       "min_width": null,
       "object_fit": null,
       "object_position": null,
       "order": null,
       "overflow": null,
       "overflow_x": null,
       "overflow_y": null,
       "padding": null,
       "right": null,
       "top": null,
       "visibility": null,
       "width": null
      }
     },
     "4d7047cffcda4b4fb863388dd4f5302d": {
      "model_module": "@jupyter-widgets/controls",
      "model_module_version": "1.5.0",
      "model_name": "DescriptionStyleModel",
      "state": {
       "_model_module": "@jupyter-widgets/controls",
       "_model_module_version": "1.5.0",
       "_model_name": "DescriptionStyleModel",
       "_view_count": null,
       "_view_module": "@jupyter-widgets/base",
       "_view_module_version": "1.2.0",
       "_view_name": "StyleView",
       "description_width": ""
      }
     },
     "50b19b4e866c46399351925184ebdf49": {
      "model_module": "@jupyter-widgets/base",
      "model_module_version": "1.2.0",
      "model_name": "LayoutModel",
      "state": {
       "_model_module": "@jupyter-widgets/base",
       "_model_module_version": "1.2.0",
       "_model_name": "LayoutModel",
       "_view_count": null,
       "_view_module": "@jupyter-widgets/base",
       "_view_module_version": "1.2.0",
       "_view_name": "LayoutView",
       "align_content": null,
       "align_items": null,
       "align_self": null,
       "border": null,
       "bottom": null,
       "display": null,
       "flex": null,
       "flex_flow": null,
       "grid_area": null,
       "grid_auto_columns": null,
       "grid_auto_flow": null,
       "grid_auto_rows": null,
       "grid_column": null,
       "grid_gap": null,
       "grid_row": null,
       "grid_template_areas": null,
       "grid_template_columns": null,
       "grid_template_rows": null,
       "height": null,
       "justify_content": null,
       "justify_items": null,
       "left": null,
       "margin": null,
       "max_height": null,
       "max_width": null,
       "min_height": null,
       "min_width": null,
       "object_fit": null,
       "object_position": null,
       "order": null,
       "overflow": null,
       "overflow_x": null,
       "overflow_y": null,
       "padding": null,
       "right": null,
       "top": null,
       "visibility": null,
       "width": null
      }
     },
     "53b3b75a76394fb59ff6eca031b0d200": {
      "model_module": "@jupyter-widgets/controls",
      "model_module_version": "1.5.0",
      "model_name": "HBoxModel",
      "state": {
       "_dom_classes": [],
       "_model_module": "@jupyter-widgets/controls",
       "_model_module_version": "1.5.0",
       "_model_name": "HBoxModel",
       "_view_count": null,
       "_view_module": "@jupyter-widgets/controls",
       "_view_module_version": "1.5.0",
       "_view_name": "HBoxView",
       "box_style": "",
       "children": [
        "IPY_MODEL_0382e3f1d04249519c916fdab223083f",
        "IPY_MODEL_ed02a77864c64a24805a067abe1a46bf",
        "IPY_MODEL_26ab3ffdd500488fb2a916fc33951ac8"
       ],
       "layout": "IPY_MODEL_e6cc72a36a584a52879a12b4b74683bf"
      }
     },
     "5a95263f3dba4eb4a0227b79ee95f43f": {
      "model_module": "@jupyter-widgets/base",
      "model_module_version": "1.2.0",
      "model_name": "LayoutModel",
      "state": {
       "_model_module": "@jupyter-widgets/base",
       "_model_module_version": "1.2.0",
       "_model_name": "LayoutModel",
       "_view_count": null,
       "_view_module": "@jupyter-widgets/base",
       "_view_module_version": "1.2.0",
       "_view_name": "LayoutView",
       "align_content": null,
       "align_items": null,
       "align_self": null,
       "border": null,
       "bottom": null,
       "display": null,
       "flex": null,
       "flex_flow": null,
       "grid_area": null,
       "grid_auto_columns": null,
       "grid_auto_flow": null,
       "grid_auto_rows": null,
       "grid_column": null,
       "grid_gap": null,
       "grid_row": null,
       "grid_template_areas": null,
       "grid_template_columns": null,
       "grid_template_rows": null,
       "height": null,
       "justify_content": null,
       "justify_items": null,
       "left": null,
       "margin": null,
       "max_height": null,
       "max_width": null,
       "min_height": null,
       "min_width": null,
       "object_fit": null,
       "object_position": null,
       "order": null,
       "overflow": null,
       "overflow_x": null,
       "overflow_y": null,
       "padding": null,
       "right": null,
       "top": null,
       "visibility": null,
       "width": null
      }
     },
     "5c5548a20bdf46728530e49882a4d789": {
      "model_module": "@jupyter-widgets/controls",
      "model_module_version": "1.5.0",
      "model_name": "DescriptionStyleModel",
      "state": {
       "_model_module": "@jupyter-widgets/controls",
       "_model_module_version": "1.5.0",
       "_model_name": "DescriptionStyleModel",
       "_view_count": null,
       "_view_module": "@jupyter-widgets/base",
       "_view_module_version": "1.2.0",
       "_view_name": "StyleView",
       "description_width": ""
      }
     },
     "5f00de1de7274d548a0cd756dfd8e5cd": {
      "model_module": "@jupyter-widgets/controls",
      "model_module_version": "1.5.0",
      "model_name": "HTMLModel",
      "state": {
       "_dom_classes": [],
       "_model_module": "@jupyter-widgets/controls",
       "_model_module_version": "1.5.0",
       "_model_name": "HTMLModel",
       "_view_count": null,
       "_view_module": "@jupyter-widgets/controls",
       "_view_module_version": "1.5.0",
       "_view_name": "HTMLView",
       "description": "",
       "description_tooltip": null,
       "layout": "IPY_MODEL_f92758489d0d4568b3275c7a07c97198",
       "placeholder": "​",
       "style": "IPY_MODEL_8fed9b820db7495e8fd5d41b9faa625c",
       "value": " 7/7 [00:08&lt;00:00,  2.08it/s]"
      }
     },
     "61a82c874a40444ebdf3cd710e94e06e": {
      "model_module": "@jupyter-widgets/base",
      "model_module_version": "1.2.0",
      "model_name": "LayoutModel",
      "state": {
       "_model_module": "@jupyter-widgets/base",
       "_model_module_version": "1.2.0",
       "_model_name": "LayoutModel",
       "_view_count": null,
       "_view_module": "@jupyter-widgets/base",
       "_view_module_version": "1.2.0",
       "_view_name": "LayoutView",
       "align_content": null,
       "align_items": null,
       "align_self": null,
       "border": null,
       "bottom": null,
       "display": null,
       "flex": null,
       "flex_flow": null,
       "grid_area": null,
       "grid_auto_columns": null,
       "grid_auto_flow": null,
       "grid_auto_rows": null,
       "grid_column": null,
       "grid_gap": null,
       "grid_row": null,
       "grid_template_areas": null,
       "grid_template_columns": null,
       "grid_template_rows": null,
       "height": null,
       "justify_content": null,
       "justify_items": null,
       "left": null,
       "margin": null,
       "max_height": null,
       "max_width": null,
       "min_height": null,
       "min_width": null,
       "object_fit": null,
       "object_position": null,
       "order": null,
       "overflow": null,
       "overflow_x": null,
       "overflow_y": null,
       "padding": null,
       "right": null,
       "top": null,
       "visibility": null,
       "width": null
      }
     },
     "7095f2e3bbed4032a4708af0fe6b6ee1": {
      "model_module": "@jupyter-widgets/controls",
      "model_module_version": "1.5.0",
      "model_name": "HBoxModel",
      "state": {
       "_dom_classes": [],
       "_model_module": "@jupyter-widgets/controls",
       "_model_module_version": "1.5.0",
       "_model_name": "HBoxModel",
       "_view_count": null,
       "_view_module": "@jupyter-widgets/controls",
       "_view_module_version": "1.5.0",
       "_view_name": "HBoxView",
       "box_style": "",
       "children": [
        "IPY_MODEL_d976edf39ce14b3fa409071c892199ab",
        "IPY_MODEL_0242424eed6a46b9995fb7f9f5f8a4b2",
        "IPY_MODEL_c3ef93dab0b647328285a1b3a3bc26cb"
       ],
       "layout": "IPY_MODEL_026f39d000b2420c8e9a6c17f98c8c8c"
      }
     },
     "70b00ae162d74d948c2d261f3af5c7ef": {
      "model_module": "@jupyter-widgets/controls",
      "model_module_version": "1.5.0",
      "model_name": "FloatProgressModel",
      "state": {
       "_dom_classes": [],
       "_model_module": "@jupyter-widgets/controls",
       "_model_module_version": "1.5.0",
       "_model_name": "FloatProgressModel",
       "_view_count": null,
       "_view_module": "@jupyter-widgets/controls",
       "_view_module_version": "1.5.0",
       "_view_name": "ProgressView",
       "bar_style": "success",
       "description": "",
       "description_tooltip": null,
       "layout": "IPY_MODEL_ae9869487e3a4ac1b771075acf4f11c4",
       "max": 7.0,
       "min": 0.0,
       "orientation": "horizontal",
       "style": "IPY_MODEL_f2ec2c6eff224967a81c058a0c707abd",
       "value": 7.0
      }
     },
     "7a1f4800ba594f299ddc8e65244a022c": {
      "model_module": "@jupyter-widgets/controls",
      "model_module_version": "1.5.0",
      "model_name": "HTMLModel",
      "state": {
       "_dom_classes": [],
       "_model_module": "@jupyter-widgets/controls",
       "_model_module_version": "1.5.0",
       "_model_name": "HTMLModel",
       "_view_count": null,
       "_view_module": "@jupyter-widgets/controls",
       "_view_module_version": "1.5.0",
       "_view_name": "HTMLView",
       "description": "",
       "description_tooltip": null,
       "layout": "IPY_MODEL_4c14b36879e34f20807dc57c808b08d7",
       "placeholder": "​",
       "style": "IPY_MODEL_9e94c73377594df38f6b699f734ac017",
       "value": " 1/1 [00:00&lt;00:00, 26.63it/s]"
      }
     },
     "7f8b4c4d611e4eba90ff4f5ab33d56e2": {
      "model_module": "@jupyter-widgets/base",
      "model_module_version": "1.2.0",
      "model_name": "LayoutModel",
      "state": {
       "_model_module": "@jupyter-widgets/base",
       "_model_module_version": "1.2.0",
       "_model_name": "LayoutModel",
       "_view_count": null,
       "_view_module": "@jupyter-widgets/base",
       "_view_module_version": "1.2.0",
       "_view_name": "LayoutView",
       "align_content": null,
       "align_items": null,
       "align_self": null,
       "border": null,
       "bottom": null,
       "display": null,
       "flex": null,
       "flex_flow": null,
       "grid_area": null,
       "grid_auto_columns": null,
       "grid_auto_flow": null,
       "grid_auto_rows": null,
       "grid_column": null,
       "grid_gap": null,
       "grid_row": null,
       "grid_template_areas": null,
       "grid_template_columns": null,
       "grid_template_rows": null,
       "height": null,
       "justify_content": null,
       "justify_items": null,
       "left": null,
       "margin": null,
       "max_height": null,
       "max_width": null,
       "min_height": null,
       "min_width": null,
       "object_fit": null,
       "object_position": null,
       "order": null,
       "overflow": null,
       "overflow_x": null,
       "overflow_y": null,
       "padding": null,
       "right": null,
       "top": null,
       "visibility": null,
       "width": null
      }
     },
     "879d0406f5a14033bf5734d755f79538": {
      "model_module": "@jupyter-widgets/controls",
      "model_module_version": "1.5.0",
      "model_name": "FloatProgressModel",
      "state": {
       "_dom_classes": [],
       "_model_module": "@jupyter-widgets/controls",
       "_model_module_version": "1.5.0",
       "_model_name": "FloatProgressModel",
       "_view_count": null,
       "_view_module": "@jupyter-widgets/controls",
       "_view_module_version": "1.5.0",
       "_view_name": "ProgressView",
       "bar_style": "success",
       "description": "",
       "description_tooltip": null,
       "layout": "IPY_MODEL_efd391c969274dc1ac5138d2f7b018e4",
       "max": 1.0,
       "min": 0.0,
       "orientation": "horizontal",
       "style": "IPY_MODEL_0cb79e6d3ebe4f8fb4cd0a364d65a379",
       "value": 1.0
      }
     },
     "89353c06457a4ab4afa022d258c7eaa5": {
      "model_module": "@jupyter-widgets/base",
      "model_module_version": "1.2.0",
      "model_name": "LayoutModel",
      "state": {
       "_model_module": "@jupyter-widgets/base",
       "_model_module_version": "1.2.0",
       "_model_name": "LayoutModel",
       "_view_count": null,
       "_view_module": "@jupyter-widgets/base",
       "_view_module_version": "1.2.0",
       "_view_name": "LayoutView",
       "align_content": null,
       "align_items": null,
       "align_self": null,
       "border": null,
       "bottom": null,
       "display": null,
       "flex": null,
       "flex_flow": null,
       "grid_area": null,
       "grid_auto_columns": null,
       "grid_auto_flow": null,
       "grid_auto_rows": null,
       "grid_column": null,
       "grid_gap": null,
       "grid_row": null,
       "grid_template_areas": null,
       "grid_template_columns": null,
       "grid_template_rows": null,
       "height": null,
       "justify_content": null,
       "justify_items": null,
       "left": null,
       "margin": null,
       "max_height": null,
       "max_width": null,
       "min_height": null,
       "min_width": null,
       "object_fit": null,
       "object_position": null,
       "order": null,
       "overflow": null,
       "overflow_x": null,
       "overflow_y": null,
       "padding": null,
       "right": null,
       "top": null,
       "visibility": null,
       "width": null
      }
     },
     "8fed9b820db7495e8fd5d41b9faa625c": {
      "model_module": "@jupyter-widgets/controls",
      "model_module_version": "1.5.0",
      "model_name": "DescriptionStyleModel",
      "state": {
       "_model_module": "@jupyter-widgets/controls",
       "_model_module_version": "1.5.0",
       "_model_name": "DescriptionStyleModel",
       "_view_count": null,
       "_view_module": "@jupyter-widgets/base",
       "_view_module_version": "1.2.0",
       "_view_name": "StyleView",
       "description_width": ""
      }
     },
     "98e8d497bdb44f50b13ae6c0d19c3c50": {
      "model_module": "@jupyter-widgets/controls",
      "model_module_version": "1.5.0",
      "model_name": "HTMLModel",
      "state": {
       "_dom_classes": [],
       "_model_module": "@jupyter-widgets/controls",
       "_model_module_version": "1.5.0",
       "_model_name": "HTMLModel",
       "_view_count": null,
       "_view_module": "@jupyter-widgets/controls",
       "_view_module_version": "1.5.0",
       "_view_name": "HTMLView",
       "description": "",
       "description_tooltip": null,
       "layout": "IPY_MODEL_d675fe1f3c9544e4afd5fe269b2225ff",
       "placeholder": "​",
       "style": "IPY_MODEL_4d7047cffcda4b4fb863388dd4f5302d",
       "value": " 1/1 [00:00&lt;00:00,  1.86it/s]"
      }
     },
     "9e31c4b37abe48bda1c348c8bee1aeb2": {
      "model_module": "@jupyter-widgets/controls",
      "model_module_version": "1.5.0",
      "model_name": "DescriptionStyleModel",
      "state": {
       "_model_module": "@jupyter-widgets/controls",
       "_model_module_version": "1.5.0",
       "_model_name": "DescriptionStyleModel",
       "_view_count": null,
       "_view_module": "@jupyter-widgets/base",
       "_view_module_version": "1.2.0",
       "_view_name": "StyleView",
       "description_width": ""
      }
     },
     "9e94c73377594df38f6b699f734ac017": {
      "model_module": "@jupyter-widgets/controls",
      "model_module_version": "1.5.0",
      "model_name": "DescriptionStyleModel",
      "state": {
       "_model_module": "@jupyter-widgets/controls",
       "_model_module_version": "1.5.0",
       "_model_name": "DescriptionStyleModel",
       "_view_count": null,
       "_view_module": "@jupyter-widgets/base",
       "_view_module_version": "1.2.0",
       "_view_name": "StyleView",
       "description_width": ""
      }
     },
     "a9b6932f0e2e4055b90dc39280b9ae67": {
      "model_module": "@jupyter-widgets/controls",
      "model_module_version": "1.5.0",
      "model_name": "ProgressStyleModel",
      "state": {
       "_model_module": "@jupyter-widgets/controls",
       "_model_module_version": "1.5.0",
       "_model_name": "ProgressStyleModel",
       "_view_count": null,
       "_view_module": "@jupyter-widgets/base",
       "_view_module_version": "1.2.0",
       "_view_name": "StyleView",
       "bar_color": null,
       "description_width": ""
      }
     },
     "ac03a3de690c41f1926f199ee1d18fc9": {
      "model_module": "@jupyter-widgets/controls",
      "model_module_version": "1.5.0",
      "model_name": "HTMLModel",
      "state": {
       "_dom_classes": [],
       "_model_module": "@jupyter-widgets/controls",
       "_model_module_version": "1.5.0",
       "_model_name": "HTMLModel",
       "_view_count": null,
       "_view_module": "@jupyter-widgets/controls",
       "_view_module_version": "1.5.0",
       "_view_name": "HTMLView",
       "description": "",
       "description_tooltip": null,
       "layout": "IPY_MODEL_ff24604cec01417abc9f26769e010163",
       "placeholder": "​",
       "style": "IPY_MODEL_aec9e1cdf40d4453bab654ff1b133b1f",
       "value": "100%"
      }
     },
     "ae9869487e3a4ac1b771075acf4f11c4": {
      "model_module": "@jupyter-widgets/base",
      "model_module_version": "1.2.0",
      "model_name": "LayoutModel",
      "state": {
       "_model_module": "@jupyter-widgets/base",
       "_model_module_version": "1.2.0",
       "_model_name": "LayoutModel",
       "_view_count": null,
       "_view_module": "@jupyter-widgets/base",
       "_view_module_version": "1.2.0",
       "_view_name": "LayoutView",
       "align_content": null,
       "align_items": null,
       "align_self": null,
       "border": null,
       "bottom": null,
       "display": null,
       "flex": null,
       "flex_flow": null,
       "grid_area": null,
       "grid_auto_columns": null,
       "grid_auto_flow": null,
       "grid_auto_rows": null,
       "grid_column": null,
       "grid_gap": null,
       "grid_row": null,
       "grid_template_areas": null,
       "grid_template_columns": null,
       "grid_template_rows": null,
       "height": null,
       "justify_content": null,
       "justify_items": null,
       "left": null,
       "margin": null,
       "max_height": null,
       "max_width": null,
       "min_height": null,
       "min_width": null,
       "object_fit": null,
       "object_position": null,
       "order": null,
       "overflow": null,
       "overflow_x": null,
       "overflow_y": null,
       "padding": null,
       "right": null,
       "top": null,
       "visibility": null,
       "width": null
      }
     },
     "aec9e1cdf40d4453bab654ff1b133b1f": {
      "model_module": "@jupyter-widgets/controls",
      "model_module_version": "1.5.0",
      "model_name": "DescriptionStyleModel",
      "state": {
       "_model_module": "@jupyter-widgets/controls",
       "_model_module_version": "1.5.0",
       "_model_name": "DescriptionStyleModel",
       "_view_count": null,
       "_view_module": "@jupyter-widgets/base",
       "_view_module_version": "1.2.0",
       "_view_name": "StyleView",
       "description_width": ""
      }
     },
     "b054750d58584992a54847a19eed5814": {
      "model_module": "@jupyter-widgets/controls",
      "model_module_version": "1.5.0",
      "model_name": "HBoxModel",
      "state": {
       "_dom_classes": [],
       "_model_module": "@jupyter-widgets/controls",
       "_model_module_version": "1.5.0",
       "_model_name": "HBoxModel",
       "_view_count": null,
       "_view_module": "@jupyter-widgets/controls",
       "_view_module_version": "1.5.0",
       "_view_name": "HBoxView",
       "box_style": "",
       "children": [
        "IPY_MODEL_fa54628d029f4d1696fb1d793af9a9e4",
        "IPY_MODEL_e56a4e33c9764519a05454a5b4d0c033",
        "IPY_MODEL_98e8d497bdb44f50b13ae6c0d19c3c50"
       ],
       "layout": "IPY_MODEL_d4f45cfd41364623bee63157cbf314db"
      }
     },
     "b1dfb994844c4d7fbedcea576a319172": {
      "model_module": "@jupyter-widgets/base",
      "model_module_version": "1.2.0",
      "model_name": "LayoutModel",
      "state": {
       "_model_module": "@jupyter-widgets/base",
       "_model_module_version": "1.2.0",
       "_model_name": "LayoutModel",
       "_view_count": null,
       "_view_module": "@jupyter-widgets/base",
       "_view_module_version": "1.2.0",
       "_view_name": "LayoutView",
       "align_content": null,
       "align_items": null,
       "align_self": null,
       "border": null,
       "bottom": null,
       "display": null,
       "flex": null,
       "flex_flow": null,
       "grid_area": null,
       "grid_auto_columns": null,
       "grid_auto_flow": null,
       "grid_auto_rows": null,
       "grid_column": null,
       "grid_gap": null,
       "grid_row": null,
       "grid_template_areas": null,
       "grid_template_columns": null,
       "grid_template_rows": null,
       "height": null,
       "justify_content": null,
       "justify_items": null,
       "left": null,
       "margin": null,
       "max_height": null,
       "max_width": null,
       "min_height": null,
       "min_width": null,
       "object_fit": null,
       "object_position": null,
       "order": null,
       "overflow": null,
       "overflow_x": null,
       "overflow_y": null,
       "padding": null,
       "right": null,
       "top": null,
       "visibility": null,
       "width": null
      }
     },
     "baa908312b8d467a82f0c7a44b6e9422": {
      "model_module": "@jupyter-widgets/controls",
      "model_module_version": "1.5.0",
      "model_name": "DescriptionStyleModel",
      "state": {
       "_model_module": "@jupyter-widgets/controls",
       "_model_module_version": "1.5.0",
       "_model_name": "DescriptionStyleModel",
       "_view_count": null,
       "_view_module": "@jupyter-widgets/base",
       "_view_module_version": "1.2.0",
       "_view_name": "StyleView",
       "description_width": ""
      }
     },
     "bb41b216de334495bda7fad0ba8bccbe": {
      "model_module": "@jupyter-widgets/controls",
      "model_module_version": "1.5.0",
      "model_name": "HBoxModel",
      "state": {
       "_dom_classes": [],
       "_model_module": "@jupyter-widgets/controls",
       "_model_module_version": "1.5.0",
       "_model_name": "HBoxModel",
       "_view_count": null,
       "_view_module": "@jupyter-widgets/controls",
       "_view_module_version": "1.5.0",
       "_view_name": "HBoxView",
       "box_style": "",
       "children": [
        "IPY_MODEL_ac03a3de690c41f1926f199ee1d18fc9",
        "IPY_MODEL_70b00ae162d74d948c2d261f3af5c7ef",
        "IPY_MODEL_5f00de1de7274d548a0cd756dfd8e5cd"
       ],
       "layout": "IPY_MODEL_06d927cff7394ac190066c8faef52e6b"
      }
     },
     "bc46e7ffe31b467a92ed8a6ff540634d": {
      "model_module": "@jupyter-widgets/base",
      "model_module_version": "1.2.0",
      "model_name": "LayoutModel",
      "state": {
       "_model_module": "@jupyter-widgets/base",
       "_model_module_version": "1.2.0",
       "_model_name": "LayoutModel",
       "_view_count": null,
       "_view_module": "@jupyter-widgets/base",
       "_view_module_version": "1.2.0",
       "_view_name": "LayoutView",
       "align_content": null,
       "align_items": null,
       "align_self": null,
       "border": null,
       "bottom": null,
       "display": null,
       "flex": null,
       "flex_flow": null,
       "grid_area": null,
       "grid_auto_columns": null,
       "grid_auto_flow": null,
       "grid_auto_rows": null,
       "grid_column": null,
       "grid_gap": null,
       "grid_row": null,
       "grid_template_areas": null,
       "grid_template_columns": null,
       "grid_template_rows": null,
       "height": null,
       "justify_content": null,
       "justify_items": null,
       "left": null,
       "margin": null,
       "max_height": null,
       "max_width": null,
       "min_height": null,
       "min_width": null,
       "object_fit": null,
       "object_position": null,
       "order": null,
       "overflow": null,
       "overflow_x": null,
       "overflow_y": null,
       "padding": null,
       "right": null,
       "top": null,
       "visibility": null,
       "width": null
      }
     },
     "bd1ac4c212774d8a8ebac5b0d53860df": {
      "model_module": "@jupyter-widgets/base",
      "model_module_version": "1.2.0",
      "model_name": "LayoutModel",
      "state": {
       "_model_module": "@jupyter-widgets/base",
       "_model_module_version": "1.2.0",
       "_model_name": "LayoutModel",
       "_view_count": null,
       "_view_module": "@jupyter-widgets/base",
       "_view_module_version": "1.2.0",
       "_view_name": "LayoutView",
       "align_content": null,
       "align_items": null,
       "align_self": null,
       "border": null,
       "bottom": null,
       "display": null,
       "flex": null,
       "flex_flow": null,
       "grid_area": null,
       "grid_auto_columns": null,
       "grid_auto_flow": null,
       "grid_auto_rows": null,
       "grid_column": null,
       "grid_gap": null,
       "grid_row": null,
       "grid_template_areas": null,
       "grid_template_columns": null,
       "grid_template_rows": null,
       "height": null,
       "justify_content": null,
       "justify_items": null,
       "left": null,
       "margin": null,
       "max_height": null,
       "max_width": null,
       "min_height": null,
       "min_width": null,
       "object_fit": null,
       "object_position": null,
       "order": null,
       "overflow": null,
       "overflow_x": null,
       "overflow_y": null,
       "padding": null,
       "right": null,
       "top": null,
       "visibility": null,
       "width": null
      }
     },
     "c3ef93dab0b647328285a1b3a3bc26cb": {
      "model_module": "@jupyter-widgets/controls",
      "model_module_version": "1.5.0",
      "model_name": "HTMLModel",
      "state": {
       "_dom_classes": [],
       "_model_module": "@jupyter-widgets/controls",
       "_model_module_version": "1.5.0",
       "_model_name": "HTMLModel",
       "_view_count": null,
       "_view_module": "@jupyter-widgets/controls",
       "_view_module_version": "1.5.0",
       "_view_name": "HTMLView",
       "description": "",
       "description_tooltip": null,
       "layout": "IPY_MODEL_041c2039287048fd91b8dc241f8d84d7",
       "placeholder": "​",
       "style": "IPY_MODEL_cc817ba8e8e245d7817c2089c5ce4a39",
       "value": " 5/5 [00:23&lt;00:00,  4.47s/it]"
      }
     },
     "c5009ce93582450fac45eba04a1e0cd8": {
      "model_module": "@jupyter-widgets/controls",
      "model_module_version": "1.5.0",
      "model_name": "ProgressStyleModel",
      "state": {
       "_model_module": "@jupyter-widgets/controls",
       "_model_module_version": "1.5.0",
       "_model_name": "ProgressStyleModel",
       "_view_count": null,
       "_view_module": "@jupyter-widgets/base",
       "_view_module_version": "1.2.0",
       "_view_name": "StyleView",
       "bar_color": null,
       "description_width": ""
      }
     },
     "c960775d6ef04c1db108358e9090486b": {
      "model_module": "@jupyter-widgets/controls",
      "model_module_version": "1.5.0",
      "model_name": "DescriptionStyleModel",
      "state": {
       "_model_module": "@jupyter-widgets/controls",
       "_model_module_version": "1.5.0",
       "_model_name": "DescriptionStyleModel",
       "_view_count": null,
       "_view_module": "@jupyter-widgets/base",
       "_view_module_version": "1.2.0",
       "_view_name": "StyleView",
       "description_width": ""
      }
     },
     "cc817ba8e8e245d7817c2089c5ce4a39": {
      "model_module": "@jupyter-widgets/controls",
      "model_module_version": "1.5.0",
      "model_name": "DescriptionStyleModel",
      "state": {
       "_model_module": "@jupyter-widgets/controls",
       "_model_module_version": "1.5.0",
       "_model_name": "DescriptionStyleModel",
       "_view_count": null,
       "_view_module": "@jupyter-widgets/base",
       "_view_module_version": "1.2.0",
       "_view_name": "StyleView",
       "description_width": ""
      }
     },
     "d4f45cfd41364623bee63157cbf314db": {
      "model_module": "@jupyter-widgets/base",
      "model_module_version": "1.2.0",
      "model_name": "LayoutModel",
      "state": {
       "_model_module": "@jupyter-widgets/base",
       "_model_module_version": "1.2.0",
       "_model_name": "LayoutModel",
       "_view_count": null,
       "_view_module": "@jupyter-widgets/base",
       "_view_module_version": "1.2.0",
       "_view_name": "LayoutView",
       "align_content": null,
       "align_items": null,
       "align_self": null,
       "border": null,
       "bottom": null,
       "display": null,
       "flex": null,
       "flex_flow": null,
       "grid_area": null,
       "grid_auto_columns": null,
       "grid_auto_flow": null,
       "grid_auto_rows": null,
       "grid_column": null,
       "grid_gap": null,
       "grid_row": null,
       "grid_template_areas": null,
       "grid_template_columns": null,
       "grid_template_rows": null,
       "height": null,
       "justify_content": null,
       "justify_items": null,
       "left": null,
       "margin": null,
       "max_height": null,
       "max_width": null,
       "min_height": null,
       "min_width": null,
       "object_fit": null,
       "object_position": null,
       "order": null,
       "overflow": null,
       "overflow_x": null,
       "overflow_y": null,
       "padding": null,
       "right": null,
       "top": null,
       "visibility": "hidden",
       "width": null
      }
     },
     "d675fe1f3c9544e4afd5fe269b2225ff": {
      "model_module": "@jupyter-widgets/base",
      "model_module_version": "1.2.0",
      "model_name": "LayoutModel",
      "state": {
       "_model_module": "@jupyter-widgets/base",
       "_model_module_version": "1.2.0",
       "_model_name": "LayoutModel",
       "_view_count": null,
       "_view_module": "@jupyter-widgets/base",
       "_view_module_version": "1.2.0",
       "_view_name": "LayoutView",
       "align_content": null,
       "align_items": null,
       "align_self": null,
       "border": null,
       "bottom": null,
       "display": null,
       "flex": null,
       "flex_flow": null,
       "grid_area": null,
       "grid_auto_columns": null,
       "grid_auto_flow": null,
       "grid_auto_rows": null,
       "grid_column": null,
       "grid_gap": null,
       "grid_row": null,
       "grid_template_areas": null,
       "grid_template_columns": null,
       "grid_template_rows": null,
       "height": null,
       "justify_content": null,
       "justify_items": null,
       "left": null,
       "margin": null,
       "max_height": null,
       "max_width": null,
       "min_height": null,
       "min_width": null,
       "object_fit": null,
       "object_position": null,
       "order": null,
       "overflow": null,
       "overflow_x": null,
       "overflow_y": null,
       "padding": null,
       "right": null,
       "top": null,
       "visibility": null,
       "width": null
      }
     },
     "d976edf39ce14b3fa409071c892199ab": {
      "model_module": "@jupyter-widgets/controls",
      "model_module_version": "1.5.0",
      "model_name": "HTMLModel",
      "state": {
       "_dom_classes": [],
       "_model_module": "@jupyter-widgets/controls",
       "_model_module_version": "1.5.0",
       "_model_name": "HTMLModel",
       "_view_count": null,
       "_view_module": "@jupyter-widgets/controls",
       "_view_module_version": "1.5.0",
       "_view_name": "HTMLView",
       "description": "",
       "description_tooltip": null,
       "layout": "IPY_MODEL_b1dfb994844c4d7fbedcea576a319172",
       "placeholder": "​",
       "style": "IPY_MODEL_e29917ec566e4d988b7482c8f36cb5f5",
       "value": "100%"
      }
     },
     "e29917ec566e4d988b7482c8f36cb5f5": {
      "model_module": "@jupyter-widgets/controls",
      "model_module_version": "1.5.0",
      "model_name": "DescriptionStyleModel",
      "state": {
       "_model_module": "@jupyter-widgets/controls",
       "_model_module_version": "1.5.0",
       "_model_name": "DescriptionStyleModel",
       "_view_count": null,
       "_view_module": "@jupyter-widgets/base",
       "_view_module_version": "1.2.0",
       "_view_name": "StyleView",
       "description_width": ""
      }
     },
     "e56a4e33c9764519a05454a5b4d0c033": {
      "model_module": "@jupyter-widgets/controls",
      "model_module_version": "1.5.0",
      "model_name": "FloatProgressModel",
      "state": {
       "_dom_classes": [],
       "_model_module": "@jupyter-widgets/controls",
       "_model_module_version": "1.5.0",
       "_model_name": "FloatProgressModel",
       "_view_count": null,
       "_view_module": "@jupyter-widgets/controls",
       "_view_module_version": "1.5.0",
       "_view_name": "ProgressView",
       "bar_style": "",
       "description": "",
       "description_tooltip": null,
       "layout": "IPY_MODEL_09d7817b197d440f9acbb3a12475435a",
       "max": 1.0,
       "min": 0.0,
       "orientation": "horizontal",
       "style": "IPY_MODEL_a9b6932f0e2e4055b90dc39280b9ae67",
       "value": 1.0
      }
     },
     "e5beb23ddcc6471dab298e378ac8d388": {
      "model_module": "@jupyter-widgets/controls",
      "model_module_version": "1.5.0",
      "model_name": "HBoxModel",
      "state": {
       "_dom_classes": [],
       "_model_module": "@jupyter-widgets/controls",
       "_model_module_version": "1.5.0",
       "_model_name": "HBoxModel",
       "_view_count": null,
       "_view_module": "@jupyter-widgets/controls",
       "_view_module_version": "1.5.0",
       "_view_name": "HBoxView",
       "box_style": "",
       "children": [
        "IPY_MODEL_ff9e218cf8d944bdbd6c070b1b5708d5",
        "IPY_MODEL_879d0406f5a14033bf5734d755f79538",
        "IPY_MODEL_7a1f4800ba594f299ddc8e65244a022c"
       ],
       "layout": "IPY_MODEL_bd1ac4c212774d8a8ebac5b0d53860df"
      }
     },
     "e6cc72a36a584a52879a12b4b74683bf": {
      "model_module": "@jupyter-widgets/base",
      "model_module_version": "1.2.0",
      "model_name": "LayoutModel",
      "state": {
       "_model_module": "@jupyter-widgets/base",
       "_model_module_version": "1.2.0",
       "_model_name": "LayoutModel",
       "_view_count": null,
       "_view_module": "@jupyter-widgets/base",
       "_view_module_version": "1.2.0",
       "_view_name": "LayoutView",
       "align_content": null,
       "align_items": null,
       "align_self": null,
       "border": null,
       "bottom": null,
       "display": null,
       "flex": null,
       "flex_flow": null,
       "grid_area": null,
       "grid_auto_columns": null,
       "grid_auto_flow": null,
       "grid_auto_rows": null,
       "grid_column": null,
       "grid_gap": null,
       "grid_row": null,
       "grid_template_areas": null,
       "grid_template_columns": null,
       "grid_template_rows": null,
       "height": null,
       "justify_content": null,
       "justify_items": null,
       "left": null,
       "margin": null,
       "max_height": null,
       "max_width": null,
       "min_height": null,
       "min_width": null,
       "object_fit": null,
       "object_position": null,
       "order": null,
       "overflow": null,
       "overflow_x": null,
       "overflow_y": null,
       "padding": null,
       "right": null,
       "top": null,
       "visibility": null,
       "width": null
      }
     },
     "e762a354f549413cbe2afd21a2df1614": {
      "model_module": "@jupyter-widgets/controls",
      "model_module_version": "1.5.0",
      "model_name": "HBoxModel",
      "state": {
       "_dom_classes": [],
       "_model_module": "@jupyter-widgets/controls",
       "_model_module_version": "1.5.0",
       "_model_name": "HBoxModel",
       "_view_count": null,
       "_view_module": "@jupyter-widgets/controls",
       "_view_module_version": "1.5.0",
       "_view_name": "HBoxView",
       "box_style": "",
       "children": [
        "IPY_MODEL_313771e67d7849b792ba4c4a9ed7c22a",
        "IPY_MODEL_f6aecf495f8e4fcea2e38d9f9118407a",
        "IPY_MODEL_16deb19ed326410ea7008f6d6757a75c"
       ],
       "layout": "IPY_MODEL_f780a0da2c46496f89221c83b1732739"
      }
     },
     "e8bf104b1da547269fdb64a0fa2f5fa6": {
      "model_module": "@jupyter-widgets/base",
      "model_module_version": "1.2.0",
      "model_name": "LayoutModel",
      "state": {
       "_model_module": "@jupyter-widgets/base",
       "_model_module_version": "1.2.0",
       "_model_name": "LayoutModel",
       "_view_count": null,
       "_view_module": "@jupyter-widgets/base",
       "_view_module_version": "1.2.0",
       "_view_name": "LayoutView",
       "align_content": null,
       "align_items": null,
       "align_self": null,
       "border": null,
       "bottom": null,
       "display": null,
       "flex": null,
       "flex_flow": null,
       "grid_area": null,
       "grid_auto_columns": null,
       "grid_auto_flow": null,
       "grid_auto_rows": null,
       "grid_column": null,
       "grid_gap": null,
       "grid_row": null,
       "grid_template_areas": null,
       "grid_template_columns": null,
       "grid_template_rows": null,
       "height": null,
       "justify_content": null,
       "justify_items": null,
       "left": null,
       "margin": null,
       "max_height": null,
       "max_width": null,
       "min_height": null,
       "min_width": null,
       "object_fit": null,
       "object_position": null,
       "order": null,
       "overflow": null,
       "overflow_x": null,
       "overflow_y": null,
       "padding": null,
       "right": null,
       "top": null,
       "visibility": null,
       "width": null
      }
     },
     "ed02a77864c64a24805a067abe1a46bf": {
      "model_module": "@jupyter-widgets/controls",
      "model_module_version": "1.5.0",
      "model_name": "FloatProgressModel",
      "state": {
       "_dom_classes": [],
       "_model_module": "@jupyter-widgets/controls",
       "_model_module_version": "1.5.0",
       "_model_name": "FloatProgressModel",
       "_view_count": null,
       "_view_module": "@jupyter-widgets/controls",
       "_view_module_version": "1.5.0",
       "_view_name": "ProgressView",
       "bar_style": "success",
       "description": "",
       "description_tooltip": null,
       "layout": "IPY_MODEL_f3c90d12dead4f539cfc26918a36a8dd",
       "max": 5.0,
       "min": 0.0,
       "orientation": "horizontal",
       "style": "IPY_MODEL_0f123f72dddd41abae1c9a68e0dffb58",
       "value": 5.0
      }
     },
     "efd391c969274dc1ac5138d2f7b018e4": {
      "model_module": "@jupyter-widgets/base",
      "model_module_version": "1.2.0",
      "model_name": "LayoutModel",
      "state": {
       "_model_module": "@jupyter-widgets/base",
       "_model_module_version": "1.2.0",
       "_model_name": "LayoutModel",
       "_view_count": null,
       "_view_module": "@jupyter-widgets/base",
       "_view_module_version": "1.2.0",
       "_view_name": "LayoutView",
       "align_content": null,
       "align_items": null,
       "align_self": null,
       "border": null,
       "bottom": null,
       "display": null,
       "flex": null,
       "flex_flow": null,
       "grid_area": null,
       "grid_auto_columns": null,
       "grid_auto_flow": null,
       "grid_auto_rows": null,
       "grid_column": null,
       "grid_gap": null,
       "grid_row": null,
       "grid_template_areas": null,
       "grid_template_columns": null,
       "grid_template_rows": null,
       "height": null,
       "justify_content": null,
       "justify_items": null,
       "left": null,
       "margin": null,
       "max_height": null,
       "max_width": null,
       "min_height": null,
       "min_width": null,
       "object_fit": null,
       "object_position": null,
       "order": null,
       "overflow": null,
       "overflow_x": null,
       "overflow_y": null,
       "padding": null,
       "right": null,
       "top": null,
       "visibility": null,
       "width": null
      }
     },
     "f2ec2c6eff224967a81c058a0c707abd": {
      "model_module": "@jupyter-widgets/controls",
      "model_module_version": "1.5.0",
      "model_name": "ProgressStyleModel",
      "state": {
       "_model_module": "@jupyter-widgets/controls",
       "_model_module_version": "1.5.0",
       "_model_name": "ProgressStyleModel",
       "_view_count": null,
       "_view_module": "@jupyter-widgets/base",
       "_view_module_version": "1.2.0",
       "_view_name": "StyleView",
       "bar_color": null,
       "description_width": ""
      }
     },
     "f3c90d12dead4f539cfc26918a36a8dd": {
      "model_module": "@jupyter-widgets/base",
      "model_module_version": "1.2.0",
      "model_name": "LayoutModel",
      "state": {
       "_model_module": "@jupyter-widgets/base",
       "_model_module_version": "1.2.0",
       "_model_name": "LayoutModel",
       "_view_count": null,
       "_view_module": "@jupyter-widgets/base",
       "_view_module_version": "1.2.0",
       "_view_name": "LayoutView",
       "align_content": null,
       "align_items": null,
       "align_self": null,
       "border": null,
       "bottom": null,
       "display": null,
       "flex": null,
       "flex_flow": null,
       "grid_area": null,
       "grid_auto_columns": null,
       "grid_auto_flow": null,
       "grid_auto_rows": null,
       "grid_column": null,
       "grid_gap": null,
       "grid_row": null,
       "grid_template_areas": null,
       "grid_template_columns": null,
       "grid_template_rows": null,
       "height": null,
       "justify_content": null,
       "justify_items": null,
       "left": null,
       "margin": null,
       "max_height": null,
       "max_width": null,
       "min_height": null,
       "min_width": null,
       "object_fit": null,
       "object_position": null,
       "order": null,
       "overflow": null,
       "overflow_x": null,
       "overflow_y": null,
       "padding": null,
       "right": null,
       "top": null,
       "visibility": null,
       "width": null
      }
     },
     "f5f12134bd1f417781d29490f663e5ad": {
      "model_module": "@jupyter-widgets/controls",
      "model_module_version": "1.5.0",
      "model_name": "DescriptionStyleModel",
      "state": {
       "_model_module": "@jupyter-widgets/controls",
       "_model_module_version": "1.5.0",
       "_model_name": "DescriptionStyleModel",
       "_view_count": null,
       "_view_module": "@jupyter-widgets/base",
       "_view_module_version": "1.2.0",
       "_view_name": "StyleView",
       "description_width": ""
      }
     },
     "f6aecf495f8e4fcea2e38d9f9118407a": {
      "model_module": "@jupyter-widgets/controls",
      "model_module_version": "1.5.0",
      "model_name": "FloatProgressModel",
      "state": {
       "_dom_classes": [],
       "_model_module": "@jupyter-widgets/controls",
       "_model_module_version": "1.5.0",
       "_model_name": "FloatProgressModel",
       "_view_count": null,
       "_view_module": "@jupyter-widgets/controls",
       "_view_module_version": "1.5.0",
       "_view_name": "ProgressView",
       "bar_style": "",
       "description": "",
       "description_tooltip": null,
       "layout": "IPY_MODEL_61a82c874a40444ebdf3cd710e94e06e",
       "max": 1.0,
       "min": 0.0,
       "orientation": "horizontal",
       "style": "IPY_MODEL_0361fad04a8c4bb9a42e49f1f723049a",
       "value": 1.0
      }
     },
     "f780a0da2c46496f89221c83b1732739": {
      "model_module": "@jupyter-widgets/base",
      "model_module_version": "1.2.0",
      "model_name": "LayoutModel",
      "state": {
       "_model_module": "@jupyter-widgets/base",
       "_model_module_version": "1.2.0",
       "_model_name": "LayoutModel",
       "_view_count": null,
       "_view_module": "@jupyter-widgets/base",
       "_view_module_version": "1.2.0",
       "_view_name": "LayoutView",
       "align_content": null,
       "align_items": null,
       "align_self": null,
       "border": null,
       "bottom": null,
       "display": null,
       "flex": null,
       "flex_flow": null,
       "grid_area": null,
       "grid_auto_columns": null,
       "grid_auto_flow": null,
       "grid_auto_rows": null,
       "grid_column": null,
       "grid_gap": null,
       "grid_row": null,
       "grid_template_areas": null,
       "grid_template_columns": null,
       "grid_template_rows": null,
       "height": null,
       "justify_content": null,
       "justify_items": null,
       "left": null,
       "margin": null,
       "max_height": null,
       "max_width": null,
       "min_height": null,
       "min_width": null,
       "object_fit": null,
       "object_position": null,
       "order": null,
       "overflow": null,
       "overflow_x": null,
       "overflow_y": null,
       "padding": null,
       "right": null,
       "top": null,
       "visibility": "hidden",
       "width": null
      }
     },
     "f92758489d0d4568b3275c7a07c97198": {
      "model_module": "@jupyter-widgets/base",
      "model_module_version": "1.2.0",
      "model_name": "LayoutModel",
      "state": {
       "_model_module": "@jupyter-widgets/base",
       "_model_module_version": "1.2.0",
       "_model_name": "LayoutModel",
       "_view_count": null,
       "_view_module": "@jupyter-widgets/base",
       "_view_module_version": "1.2.0",
       "_view_name": "LayoutView",
       "align_content": null,
       "align_items": null,
       "align_self": null,
       "border": null,
       "bottom": null,
       "display": null,
       "flex": null,
       "flex_flow": null,
       "grid_area": null,
       "grid_auto_columns": null,
       "grid_auto_flow": null,
       "grid_auto_rows": null,
       "grid_column": null,
       "grid_gap": null,
       "grid_row": null,
       "grid_template_areas": null,
       "grid_template_columns": null,
       "grid_template_rows": null,
       "height": null,
       "justify_content": null,
       "justify_items": null,
       "left": null,
       "margin": null,
       "max_height": null,
       "max_width": null,
       "min_height": null,
       "min_width": null,
       "object_fit": null,
       "object_position": null,
       "order": null,
       "overflow": null,
       "overflow_x": null,
       "overflow_y": null,
       "padding": null,
       "right": null,
       "top": null,
       "visibility": null,
       "width": null
      }
     },
     "fa54628d029f4d1696fb1d793af9a9e4": {
      "model_module": "@jupyter-widgets/controls",
      "model_module_version": "1.5.0",
      "model_name": "HTMLModel",
      "state": {
       "_dom_classes": [],
       "_model_module": "@jupyter-widgets/controls",
       "_model_module_version": "1.5.0",
       "_model_name": "HTMLModel",
       "_view_count": null,
       "_view_module": "@jupyter-widgets/controls",
       "_view_module_version": "1.5.0",
       "_view_name": "HTMLView",
       "description": "",
       "description_tooltip": null,
       "layout": "IPY_MODEL_4a7409d25fef4fb1882eb9a0b05fd216",
       "placeholder": "​",
       "style": "IPY_MODEL_f5f12134bd1f417781d29490f663e5ad",
       "value": "100%"
      }
     },
     "ff24604cec01417abc9f26769e010163": {
      "model_module": "@jupyter-widgets/base",
      "model_module_version": "1.2.0",
      "model_name": "LayoutModel",
      "state": {
       "_model_module": "@jupyter-widgets/base",
       "_model_module_version": "1.2.0",
       "_model_name": "LayoutModel",
       "_view_count": null,
       "_view_module": "@jupyter-widgets/base",
       "_view_module_version": "1.2.0",
       "_view_name": "LayoutView",
       "align_content": null,
       "align_items": null,
       "align_self": null,
       "border": null,
       "bottom": null,
       "display": null,
       "flex": null,
       "flex_flow": null,
       "grid_area": null,
       "grid_auto_columns": null,
       "grid_auto_flow": null,
       "grid_auto_rows": null,
       "grid_column": null,
       "grid_gap": null,
       "grid_row": null,
       "grid_template_areas": null,
       "grid_template_columns": null,
       "grid_template_rows": null,
       "height": null,
       "justify_content": null,
       "justify_items": null,
       "left": null,
       "margin": null,
       "max_height": null,
       "max_width": null,
       "min_height": null,
       "min_width": null,
       "object_fit": null,
       "object_position": null,
       "order": null,
       "overflow": null,
       "overflow_x": null,
       "overflow_y": null,
       "padding": null,
       "right": null,
       "top": null,
       "visibility": null,
       "width": null
      }
     },
     "ff9e218cf8d944bdbd6c070b1b5708d5": {
      "model_module": "@jupyter-widgets/controls",
      "model_module_version": "1.5.0",
      "model_name": "HTMLModel",
      "state": {
       "_dom_classes": [],
       "_model_module": "@jupyter-widgets/controls",
       "_model_module_version": "1.5.0",
       "_model_name": "HTMLModel",
       "_view_count": null,
       "_view_module": "@jupyter-widgets/controls",
       "_view_module_version": "1.5.0",
       "_view_name": "HTMLView",
       "description": "",
       "description_tooltip": null,
       "layout": "IPY_MODEL_5a95263f3dba4eb4a0227b79ee95f43f",
       "placeholder": "​",
       "style": "IPY_MODEL_c960775d6ef04c1db108358e9090486b",
       "value": "Batches: 100%"
      }
     }
    },
    "version_major": 2,
    "version_minor": 0
   }
  }
 },
 "nbformat": 4,
 "nbformat_minor": 5
}
